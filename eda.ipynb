{
 "cells": [
  {
   "attachments": {},
   "cell_type": "markdown",
   "metadata": {},
   "source": [
    "# Exploring DAIC-WOZ"
   ]
  },
  {
   "cell_type": "code",
   "execution_count": 1,
   "metadata": {},
   "outputs": [],
   "source": [
    "import pandas as pd"
   ]
  },
  {
   "cell_type": "code",
   "execution_count": 2,
   "metadata": {},
   "outputs": [],
   "source": [
    "directory = '/Volumes/Files/monash/daic_woz'"
   ]
  },
  {
   "cell_type": "code",
   "execution_count": 5,
   "metadata": {},
   "outputs": [
    {
     "name": "stdout",
     "output_type": "stream",
     "text": [
      "413_AUDIO.wav\n",
      "300_AUDIO.wav\n",
      "301_AUDIO.wav\n",
      "302_AUDIO.wav\n",
      "303_AUDIO.wav\n",
      "304_AUDIO.wav\n",
      "305_AUDIO.wav\n",
      "306_AUDIO.wav\n",
      "307_AUDIO.wav\n",
      "308_AUDIO.wav\n",
      "309_AUDIO.wav\n",
      "310_AUDIO.wav\n",
      "311_AUDIO.wav\n",
      "312_AUDIO.wav\n",
      "313_AUDIO.wav\n",
      "314_AUDIO.wav\n",
      "315_AUDIO.wav\n",
      "316_AUDIO.wav\n",
      "317_AUDIO.wav\n",
      "318_AUDIO.wav\n",
      "319_AUDIO.wav\n",
      "320_AUDIO.wav\n",
      "321_AUDIO.wav\n",
      "322_AUDIO.wav\n",
      "323_AUDIO.wav\n",
      "324_AUDIO.wav\n",
      "325_AUDIO.wav\n",
      "326_AUDIO.wav\n",
      "327_AUDIO.wav\n",
      "328_AUDIO.wav\n",
      "329_AUDIO.wav\n",
      "330_AUDIO.wav\n",
      "331_AUDIO.wav\n",
      "332_AUDIO.wav\n",
      "333_AUDIO.wav\n",
      "334_AUDIO.wav\n",
      "335_AUDIO.wav\n",
      "336_AUDIO.wav\n",
      "337_AUDIO.wav\n",
      "338_AUDIO.wav\n",
      "339_AUDIO.wav\n",
      "340_AUDIO.wav\n",
      "341_AUDIO.wav\n",
      "343_AUDIO.wav\n",
      "344_AUDIO.wav\n",
      "345_AUDIO.wav\n",
      "346_AUDIO.wav\n",
      "347_AUDIO.wav\n",
      "348_AUDIO.wav\n",
      "349_AUDIO.wav\n",
      "350_AUDIO.wav\n",
      "351_AUDIO.wav\n",
      "352_AUDIO.wav\n",
      "353_AUDIO.wav\n",
      "354_AUDIO.wav\n",
      "355_AUDIO.wav\n",
      "356_AUDIO.wav\n",
      "357_AUDIO.wav\n",
      "358_AUDIO.wav\n",
      "359_AUDIO.wav\n",
      "360_AUDIO.wav\n",
      "361_AUDIO.wav\n",
      "362_AUDIO.wav\n",
      "363_AUDIO.wav\n",
      "364_AUDIO.wav\n",
      "365_AUDIO.wav\n",
      "366_AUDIO.wav\n",
      "367_AUDIO.wav\n",
      "368_AUDIO.wav\n",
      "369_AUDIO.wav\n",
      "370_AUDIO.wav\n",
      "371_AUDIO.wav\n",
      "372_AUDIO.wav\n",
      "373_AUDIO.wav\n",
      "374_AUDIO.wav\n",
      "375_AUDIO.wav\n",
      "376_AUDIO.wav\n",
      "377_AUDIO.wav\n",
      "378_AUDIO.wav\n",
      "379_AUDIO.wav\n",
      "380_AUDIO.wav\n",
      "381_AUDIO.wav\n",
      "382_AUDIO.wav\n",
      "383_AUDIO.wav\n",
      "384_AUDIO.wav\n",
      "385_AUDIO.wav\n",
      "386_AUDIO.wav\n",
      "387_AUDIO.wav\n",
      "388_AUDIO.wav\n",
      "389_AUDIO.wav\n",
      "390_AUDIO.wav\n",
      "391_AUDIO.wav\n",
      "392_AUDIO.wav\n",
      "393_AUDIO.wav\n",
      "395_AUDIO.wav\n",
      "396_AUDIO.wav\n",
      "397_AUDIO.wav\n",
      "399_AUDIO.wav\n",
      "400_AUDIO.wav\n",
      "401_AUDIO.wav\n",
      "402_AUDIO.wav\n",
      "403_AUDIO.wav\n",
      "404_AUDIO.wav\n",
      "405_AUDIO.wav\n",
      "410_AUDIO.wav\n",
      "411_AUDIO.wav\n",
      "409_AUDIO.wav\n",
      "412_AUDIO.wav\n",
      "423_AUDIO.wav\n",
      "428_AUDIO.wav\n",
      "407_AUDIO.wav\n",
      "418_AUDIO.wav\n",
      "414_AUDIO.wav\n",
      "406_AUDIO.wav\n",
      "419_AUDIO.wav\n",
      "408_AUDIO.wav\n",
      "429_AUDIO.wav\n",
      "424_AUDIO.wav\n",
      "415_AUDIO.wav\n",
      "425_AUDIO.wav\n",
      "420_AUDIO.wav\n",
      "421_AUDIO.wav\n",
      "416_AUDIO.wav\n",
      "430_AUDIO.wav\n",
      "422_AUDIO.wav\n",
      "426_AUDIO.wav\n",
      "431_AUDIO.wav\n",
      "427_AUDIO.wav\n",
      "417_AUDIO.wav\n",
      "433_AUDIO.wav\n",
      "438_AUDIO.wav\n",
      "432_AUDIO.wav\n",
      "443_AUDIO.wav\n",
      "434_AUDIO.wav\n",
      "448_AUDIO.wav\n",
      "444_AUDIO.wav\n",
      "439_AUDIO.wav\n",
      "435_AUDIO.wav\n",
      "445_AUDIO.wav\n",
      "436_AUDIO.wav\n",
      "440_AUDIO.wav\n",
      "446_AUDIO.wav\n",
      "449_AUDIO.wav\n",
      "437_AUDIO.wav\n",
      "450_AUDIO.wav\n",
      "447_AUDIO.wav\n",
      "453_AUDIO.wav\n",
      "458_AUDIO.wav\n",
      "451_AUDIO.wav\n",
      "441_AUDIO.wav\n",
      "442_AUDIO.wav\n",
      "459_AUDIO.wav\n",
      "452_AUDIO.wav\n",
      "461_AUDIO.wav\n",
      "454_AUDIO.wav\n",
      "464_AUDIO.wav\n",
      "469_AUDIO.wav\n",
      "455_AUDIO.wav\n",
      "462_AUDIO.wav\n",
      "465_AUDIO.wav\n",
      "463_AUDIO.wav\n",
      "456_AUDIO.wav\n",
      "470_AUDIO.wav\n",
      "457_AUDIO.wav\n",
      "471_AUDIO.wav\n",
      "474_AUDIO.wav\n",
      "466_AUDIO.wav\n",
      "472_AUDIO.wav\n",
      "475_AUDIO.wav\n",
      "479_AUDIO.wav\n",
      "476_AUDIO.wav\n",
      "467_AUDIO.wav\n",
      "473_AUDIO.wav\n",
      "480_AUDIO.wav\n",
      "484_AUDIO.wav\n",
      "477_AUDIO.wav\n",
      "468_AUDIO.wav\n",
      "481_AUDIO.wav\n",
      "485_AUDIO.wav\n",
      "486_AUDIO.wav\n",
      "478_AUDIO.wav\n",
      "487_AUDIO.wav\n",
      "488_AUDIO.wav\n",
      "489_AUDIO.wav\n",
      "482_AUDIO.wav\n",
      "490_AUDIO.wav\n",
      "491_AUDIO.wav\n",
      "483_AUDIO.wav\n",
      "492_AUDIO.wav\n"
     ]
    }
   ],
   "source": [
    "import os\n",
    "import librosa\n",
    "\n",
    "audio_lengths = {}\n",
    "\n",
    "for folder in os.listdir(directory):\n",
    "    if folder.endswith('.zip') or folder.startswith('._'):\n",
    "        # don't care about zip files\n",
    "        continue\n",
    "    for file in os.listdir(os.path.join(directory, folder)):\n",
    "        if file.endswith('AUDIO.wav') and not file.startswith('._'):\n",
    "            print(file)\n",
    "            audio_lengths[file] = librosa.get_duration(filename=os.path.join(directory, folder, file))"
   ]
  },
  {
   "cell_type": "code",
   "execution_count": 6,
   "metadata": {},
   "outputs": [
    {
     "data": {
      "application/vnd.plotly.v1+json": {
       "config": {
        "plotlyServerURL": "https://plot.ly"
       },
       "data": [
        {
         "alignmentgroup": "True",
         "bingroup": "x",
         "histfunc": "sum",
         "hovertemplate": "index=%{x}<br>sum of 0=%{y}<extra></extra>",
         "legendgroup": "",
         "marker": {
          "color": "#636efa",
          "pattern": {
           "shape": ""
          }
         },
         "name": "",
         "offsetgroup": "",
         "orientation": "v",
         "showlegend": false,
         "type": "histogram",
         "x": [
          "413_AUDIO.wav",
          "300_AUDIO.wav",
          "301_AUDIO.wav",
          "302_AUDIO.wav",
          "303_AUDIO.wav",
          "304_AUDIO.wav",
          "305_AUDIO.wav",
          "306_AUDIO.wav",
          "307_AUDIO.wav",
          "308_AUDIO.wav",
          "309_AUDIO.wav",
          "310_AUDIO.wav",
          "311_AUDIO.wav",
          "312_AUDIO.wav",
          "313_AUDIO.wav",
          "314_AUDIO.wav",
          "315_AUDIO.wav",
          "316_AUDIO.wav",
          "317_AUDIO.wav",
          "318_AUDIO.wav",
          "319_AUDIO.wav",
          "320_AUDIO.wav",
          "321_AUDIO.wav",
          "322_AUDIO.wav",
          "323_AUDIO.wav",
          "324_AUDIO.wav",
          "325_AUDIO.wav",
          "326_AUDIO.wav",
          "327_AUDIO.wav",
          "328_AUDIO.wav",
          "329_AUDIO.wav",
          "330_AUDIO.wav",
          "331_AUDIO.wav",
          "332_AUDIO.wav",
          "333_AUDIO.wav",
          "334_AUDIO.wav",
          "335_AUDIO.wav",
          "336_AUDIO.wav",
          "337_AUDIO.wav",
          "338_AUDIO.wav",
          "339_AUDIO.wav",
          "340_AUDIO.wav",
          "341_AUDIO.wav",
          "343_AUDIO.wav",
          "344_AUDIO.wav",
          "345_AUDIO.wav",
          "346_AUDIO.wav",
          "347_AUDIO.wav",
          "348_AUDIO.wav",
          "349_AUDIO.wav",
          "350_AUDIO.wav",
          "351_AUDIO.wav",
          "352_AUDIO.wav",
          "353_AUDIO.wav",
          "354_AUDIO.wav",
          "355_AUDIO.wav",
          "356_AUDIO.wav",
          "357_AUDIO.wav",
          "358_AUDIO.wav",
          "359_AUDIO.wav",
          "360_AUDIO.wav",
          "361_AUDIO.wav",
          "362_AUDIO.wav",
          "363_AUDIO.wav",
          "364_AUDIO.wav",
          "365_AUDIO.wav",
          "366_AUDIO.wav",
          "367_AUDIO.wav",
          "368_AUDIO.wav",
          "369_AUDIO.wav",
          "370_AUDIO.wav",
          "371_AUDIO.wav",
          "372_AUDIO.wav",
          "373_AUDIO.wav",
          "374_AUDIO.wav",
          "375_AUDIO.wav",
          "376_AUDIO.wav",
          "377_AUDIO.wav",
          "378_AUDIO.wav",
          "379_AUDIO.wav",
          "380_AUDIO.wav",
          "381_AUDIO.wav",
          "382_AUDIO.wav",
          "383_AUDIO.wav",
          "384_AUDIO.wav",
          "385_AUDIO.wav",
          "386_AUDIO.wav",
          "387_AUDIO.wav",
          "388_AUDIO.wav",
          "389_AUDIO.wav",
          "390_AUDIO.wav",
          "391_AUDIO.wav",
          "392_AUDIO.wav",
          "393_AUDIO.wav",
          "395_AUDIO.wav",
          "396_AUDIO.wav",
          "397_AUDIO.wav",
          "399_AUDIO.wav",
          "400_AUDIO.wav",
          "401_AUDIO.wav",
          "402_AUDIO.wav",
          "403_AUDIO.wav",
          "404_AUDIO.wav",
          "405_AUDIO.wav",
          "410_AUDIO.wav",
          "411_AUDIO.wav",
          "409_AUDIO.wav",
          "412_AUDIO.wav",
          "423_AUDIO.wav",
          "428_AUDIO.wav",
          "407_AUDIO.wav",
          "418_AUDIO.wav",
          "414_AUDIO.wav",
          "406_AUDIO.wav",
          "419_AUDIO.wav",
          "408_AUDIO.wav",
          "429_AUDIO.wav",
          "424_AUDIO.wav",
          "415_AUDIO.wav",
          "425_AUDIO.wav",
          "420_AUDIO.wav",
          "421_AUDIO.wav",
          "416_AUDIO.wav",
          "430_AUDIO.wav",
          "422_AUDIO.wav",
          "426_AUDIO.wav",
          "431_AUDIO.wav",
          "427_AUDIO.wav",
          "417_AUDIO.wav",
          "433_AUDIO.wav",
          "438_AUDIO.wav",
          "432_AUDIO.wav",
          "443_AUDIO.wav",
          "434_AUDIO.wav",
          "448_AUDIO.wav",
          "444_AUDIO.wav",
          "439_AUDIO.wav",
          "435_AUDIO.wav",
          "445_AUDIO.wav",
          "436_AUDIO.wav",
          "440_AUDIO.wav",
          "446_AUDIO.wav",
          "449_AUDIO.wav",
          "437_AUDIO.wav",
          "450_AUDIO.wav",
          "447_AUDIO.wav",
          "453_AUDIO.wav",
          "458_AUDIO.wav",
          "451_AUDIO.wav",
          "441_AUDIO.wav",
          "442_AUDIO.wav",
          "459_AUDIO.wav",
          "452_AUDIO.wav",
          "461_AUDIO.wav",
          "454_AUDIO.wav",
          "464_AUDIO.wav",
          "469_AUDIO.wav",
          "455_AUDIO.wav",
          "462_AUDIO.wav",
          "465_AUDIO.wav",
          "463_AUDIO.wav",
          "456_AUDIO.wav",
          "470_AUDIO.wav",
          "457_AUDIO.wav",
          "471_AUDIO.wav",
          "474_AUDIO.wav",
          "466_AUDIO.wav",
          "472_AUDIO.wav",
          "475_AUDIO.wav",
          "479_AUDIO.wav",
          "476_AUDIO.wav",
          "467_AUDIO.wav",
          "473_AUDIO.wav",
          "480_AUDIO.wav",
          "484_AUDIO.wav",
          "477_AUDIO.wav",
          "468_AUDIO.wav",
          "481_AUDIO.wav",
          "485_AUDIO.wav",
          "486_AUDIO.wav",
          "478_AUDIO.wav",
          "487_AUDIO.wav",
          "488_AUDIO.wav",
          "489_AUDIO.wav",
          "482_AUDIO.wav",
          "490_AUDIO.wav",
          "491_AUDIO.wav",
          "483_AUDIO.wav",
          "492_AUDIO.wav"
         ],
         "xaxis": "x",
         "y": [
          996.8,
          648.5,
          823.9,
          758.8,
          985.3,
          792.6,
          1704,
          858.1,
          1238.8,
          867.6,
          705.8,
          844.9,
          785.6,
          790,
          753.8,
          1546.7,
          975.4,
          869,
          804.9,
          588.4,
          679.7,
          840.7,
          821.9,
          1047.1,
          837,
          721.3,
          875,
          699.2,
          680.8,
          1065.2,
          706.3,
          771.5,
          850.7,
          874.1,
          969.3,
          980,
          830.1,
          944.5,
          1871.2,
          596.8,
          862.9,
          599.3,
          867.5,
          927.3,
          1090.5,
          793.9,
          1221.8,
          611.6,
          719.4,
          1216,
          881.8,
          769.6,
          760.1,
          786,
          576.8,
          674.7,
          954,
          414.8,
          647.9,
          1033.6,
          440.4,
          641.9,
          590.2,
          1227.1,
          1781.5,
          1386.1,
          1312.7,
          1637,
          1354.8,
          1041.1,
          1208.6,
          911.7,
          1513.7,
          1265.1,
          1287.7,
          621.2,
          1025.7,
          1328.3,
          873.4,
          1002.1,
          1966.2,
          1089.3,
          824.2,
          1369.1,
          1056.8,
          536.3,
          1039.4,
          602.8,
          831.2,
          953.2,
          1356.7,
          680.1,
          655.7,
          630,
          889.2,
          780.4,
          953.3,
          734,
          936.7,
          934.2,
          955.49875,
          862.5,
          1130.6,
          1570.2,
          1065,
          1382.9,
          1032.4,
          856.9,
          995.9,
          704.1,
          1252.4,
          1089.2,
          984.3,
          721.8,
          906.3,
          715.9,
          957.5,
          1062.7,
          780.7,
          1154.8,
          1048.9,
          837,
          865.8,
          908.8,
          1334.6,
          856.8,
          833.8,
          871.8,
          886.3,
          801.9,
          1429.9,
          935.9,
          701.3,
          1319.9,
          1213,
          1310.5,
          1284.6,
          1185,
          709.6,
          687.9,
          1414.1,
          998.4,
          1029.7,
          849.6,
          1275.2,
          820.3,
          1032.2,
          949.7,
          1188.4,
          971.3,
          950,
          975.1,
          889.1,
          981.5,
          804.1,
          980.3,
          1126.6,
          750.4,
          965.1,
          1163.4,
          834.7,
          882.7,
          955.4,
          962.3,
          995.3,
          927.4,
          1566.5,
          903,
          587.2,
          910.4,
          608.8,
          1002.4,
          533.3,
          865.7,
          995.5,
          1244.7,
          939.8,
          1116.4,
          602.7,
          682.3,
          936.2,
          1023.5,
          884.9,
          704.7,
          1019,
          691.3,
          881.7,
          1577,
          912.5
         ],
         "yaxis": "y"
        }
       ],
       "layout": {
        "barmode": "relative",
        "legend": {
         "tracegroupgap": 0
        },
        "margin": {
         "t": 60
        },
        "template": {
         "data": {
          "bar": [
           {
            "error_x": {
             "color": "#2a3f5f"
            },
            "error_y": {
             "color": "#2a3f5f"
            },
            "marker": {
             "line": {
              "color": "#E5ECF6",
              "width": 0.5
             },
             "pattern": {
              "fillmode": "overlay",
              "size": 10,
              "solidity": 0.2
             }
            },
            "type": "bar"
           }
          ],
          "barpolar": [
           {
            "marker": {
             "line": {
              "color": "#E5ECF6",
              "width": 0.5
             },
             "pattern": {
              "fillmode": "overlay",
              "size": 10,
              "solidity": 0.2
             }
            },
            "type": "barpolar"
           }
          ],
          "carpet": [
           {
            "aaxis": {
             "endlinecolor": "#2a3f5f",
             "gridcolor": "white",
             "linecolor": "white",
             "minorgridcolor": "white",
             "startlinecolor": "#2a3f5f"
            },
            "baxis": {
             "endlinecolor": "#2a3f5f",
             "gridcolor": "white",
             "linecolor": "white",
             "minorgridcolor": "white",
             "startlinecolor": "#2a3f5f"
            },
            "type": "carpet"
           }
          ],
          "choropleth": [
           {
            "colorbar": {
             "outlinewidth": 0,
             "ticks": ""
            },
            "type": "choropleth"
           }
          ],
          "contour": [
           {
            "colorbar": {
             "outlinewidth": 0,
             "ticks": ""
            },
            "colorscale": [
             [
              0,
              "#0d0887"
             ],
             [
              0.1111111111111111,
              "#46039f"
             ],
             [
              0.2222222222222222,
              "#7201a8"
             ],
             [
              0.3333333333333333,
              "#9c179e"
             ],
             [
              0.4444444444444444,
              "#bd3786"
             ],
             [
              0.5555555555555556,
              "#d8576b"
             ],
             [
              0.6666666666666666,
              "#ed7953"
             ],
             [
              0.7777777777777778,
              "#fb9f3a"
             ],
             [
              0.8888888888888888,
              "#fdca26"
             ],
             [
              1,
              "#f0f921"
             ]
            ],
            "type": "contour"
           }
          ],
          "contourcarpet": [
           {
            "colorbar": {
             "outlinewidth": 0,
             "ticks": ""
            },
            "type": "contourcarpet"
           }
          ],
          "heatmap": [
           {
            "colorbar": {
             "outlinewidth": 0,
             "ticks": ""
            },
            "colorscale": [
             [
              0,
              "#0d0887"
             ],
             [
              0.1111111111111111,
              "#46039f"
             ],
             [
              0.2222222222222222,
              "#7201a8"
             ],
             [
              0.3333333333333333,
              "#9c179e"
             ],
             [
              0.4444444444444444,
              "#bd3786"
             ],
             [
              0.5555555555555556,
              "#d8576b"
             ],
             [
              0.6666666666666666,
              "#ed7953"
             ],
             [
              0.7777777777777778,
              "#fb9f3a"
             ],
             [
              0.8888888888888888,
              "#fdca26"
             ],
             [
              1,
              "#f0f921"
             ]
            ],
            "type": "heatmap"
           }
          ],
          "heatmapgl": [
           {
            "colorbar": {
             "outlinewidth": 0,
             "ticks": ""
            },
            "colorscale": [
             [
              0,
              "#0d0887"
             ],
             [
              0.1111111111111111,
              "#46039f"
             ],
             [
              0.2222222222222222,
              "#7201a8"
             ],
             [
              0.3333333333333333,
              "#9c179e"
             ],
             [
              0.4444444444444444,
              "#bd3786"
             ],
             [
              0.5555555555555556,
              "#d8576b"
             ],
             [
              0.6666666666666666,
              "#ed7953"
             ],
             [
              0.7777777777777778,
              "#fb9f3a"
             ],
             [
              0.8888888888888888,
              "#fdca26"
             ],
             [
              1,
              "#f0f921"
             ]
            ],
            "type": "heatmapgl"
           }
          ],
          "histogram": [
           {
            "marker": {
             "pattern": {
              "fillmode": "overlay",
              "size": 10,
              "solidity": 0.2
             }
            },
            "type": "histogram"
           }
          ],
          "histogram2d": [
           {
            "colorbar": {
             "outlinewidth": 0,
             "ticks": ""
            },
            "colorscale": [
             [
              0,
              "#0d0887"
             ],
             [
              0.1111111111111111,
              "#46039f"
             ],
             [
              0.2222222222222222,
              "#7201a8"
             ],
             [
              0.3333333333333333,
              "#9c179e"
             ],
             [
              0.4444444444444444,
              "#bd3786"
             ],
             [
              0.5555555555555556,
              "#d8576b"
             ],
             [
              0.6666666666666666,
              "#ed7953"
             ],
             [
              0.7777777777777778,
              "#fb9f3a"
             ],
             [
              0.8888888888888888,
              "#fdca26"
             ],
             [
              1,
              "#f0f921"
             ]
            ],
            "type": "histogram2d"
           }
          ],
          "histogram2dcontour": [
           {
            "colorbar": {
             "outlinewidth": 0,
             "ticks": ""
            },
            "colorscale": [
             [
              0,
              "#0d0887"
             ],
             [
              0.1111111111111111,
              "#46039f"
             ],
             [
              0.2222222222222222,
              "#7201a8"
             ],
             [
              0.3333333333333333,
              "#9c179e"
             ],
             [
              0.4444444444444444,
              "#bd3786"
             ],
             [
              0.5555555555555556,
              "#d8576b"
             ],
             [
              0.6666666666666666,
              "#ed7953"
             ],
             [
              0.7777777777777778,
              "#fb9f3a"
             ],
             [
              0.8888888888888888,
              "#fdca26"
             ],
             [
              1,
              "#f0f921"
             ]
            ],
            "type": "histogram2dcontour"
           }
          ],
          "mesh3d": [
           {
            "colorbar": {
             "outlinewidth": 0,
             "ticks": ""
            },
            "type": "mesh3d"
           }
          ],
          "parcoords": [
           {
            "line": {
             "colorbar": {
              "outlinewidth": 0,
              "ticks": ""
             }
            },
            "type": "parcoords"
           }
          ],
          "pie": [
           {
            "automargin": true,
            "type": "pie"
           }
          ],
          "scatter": [
           {
            "marker": {
             "colorbar": {
              "outlinewidth": 0,
              "ticks": ""
             }
            },
            "type": "scatter"
           }
          ],
          "scatter3d": [
           {
            "line": {
             "colorbar": {
              "outlinewidth": 0,
              "ticks": ""
             }
            },
            "marker": {
             "colorbar": {
              "outlinewidth": 0,
              "ticks": ""
             }
            },
            "type": "scatter3d"
           }
          ],
          "scattercarpet": [
           {
            "marker": {
             "colorbar": {
              "outlinewidth": 0,
              "ticks": ""
             }
            },
            "type": "scattercarpet"
           }
          ],
          "scattergeo": [
           {
            "marker": {
             "colorbar": {
              "outlinewidth": 0,
              "ticks": ""
             }
            },
            "type": "scattergeo"
           }
          ],
          "scattergl": [
           {
            "marker": {
             "colorbar": {
              "outlinewidth": 0,
              "ticks": ""
             }
            },
            "type": "scattergl"
           }
          ],
          "scattermapbox": [
           {
            "marker": {
             "colorbar": {
              "outlinewidth": 0,
              "ticks": ""
             }
            },
            "type": "scattermapbox"
           }
          ],
          "scatterpolar": [
           {
            "marker": {
             "colorbar": {
              "outlinewidth": 0,
              "ticks": ""
             }
            },
            "type": "scatterpolar"
           }
          ],
          "scatterpolargl": [
           {
            "marker": {
             "colorbar": {
              "outlinewidth": 0,
              "ticks": ""
             }
            },
            "type": "scatterpolargl"
           }
          ],
          "scatterternary": [
           {
            "marker": {
             "colorbar": {
              "outlinewidth": 0,
              "ticks": ""
             }
            },
            "type": "scatterternary"
           }
          ],
          "surface": [
           {
            "colorbar": {
             "outlinewidth": 0,
             "ticks": ""
            },
            "colorscale": [
             [
              0,
              "#0d0887"
             ],
             [
              0.1111111111111111,
              "#46039f"
             ],
             [
              0.2222222222222222,
              "#7201a8"
             ],
             [
              0.3333333333333333,
              "#9c179e"
             ],
             [
              0.4444444444444444,
              "#bd3786"
             ],
             [
              0.5555555555555556,
              "#d8576b"
             ],
             [
              0.6666666666666666,
              "#ed7953"
             ],
             [
              0.7777777777777778,
              "#fb9f3a"
             ],
             [
              0.8888888888888888,
              "#fdca26"
             ],
             [
              1,
              "#f0f921"
             ]
            ],
            "type": "surface"
           }
          ],
          "table": [
           {
            "cells": {
             "fill": {
              "color": "#EBF0F8"
             },
             "line": {
              "color": "white"
             }
            },
            "header": {
             "fill": {
              "color": "#C8D4E3"
             },
             "line": {
              "color": "white"
             }
            },
            "type": "table"
           }
          ]
         },
         "layout": {
          "annotationdefaults": {
           "arrowcolor": "#2a3f5f",
           "arrowhead": 0,
           "arrowwidth": 1
          },
          "autotypenumbers": "strict",
          "coloraxis": {
           "colorbar": {
            "outlinewidth": 0,
            "ticks": ""
           }
          },
          "colorscale": {
           "diverging": [
            [
             0,
             "#8e0152"
            ],
            [
             0.1,
             "#c51b7d"
            ],
            [
             0.2,
             "#de77ae"
            ],
            [
             0.3,
             "#f1b6da"
            ],
            [
             0.4,
             "#fde0ef"
            ],
            [
             0.5,
             "#f7f7f7"
            ],
            [
             0.6,
             "#e6f5d0"
            ],
            [
             0.7,
             "#b8e186"
            ],
            [
             0.8,
             "#7fbc41"
            ],
            [
             0.9,
             "#4d9221"
            ],
            [
             1,
             "#276419"
            ]
           ],
           "sequential": [
            [
             0,
             "#0d0887"
            ],
            [
             0.1111111111111111,
             "#46039f"
            ],
            [
             0.2222222222222222,
             "#7201a8"
            ],
            [
             0.3333333333333333,
             "#9c179e"
            ],
            [
             0.4444444444444444,
             "#bd3786"
            ],
            [
             0.5555555555555556,
             "#d8576b"
            ],
            [
             0.6666666666666666,
             "#ed7953"
            ],
            [
             0.7777777777777778,
             "#fb9f3a"
            ],
            [
             0.8888888888888888,
             "#fdca26"
            ],
            [
             1,
             "#f0f921"
            ]
           ],
           "sequentialminus": [
            [
             0,
             "#0d0887"
            ],
            [
             0.1111111111111111,
             "#46039f"
            ],
            [
             0.2222222222222222,
             "#7201a8"
            ],
            [
             0.3333333333333333,
             "#9c179e"
            ],
            [
             0.4444444444444444,
             "#bd3786"
            ],
            [
             0.5555555555555556,
             "#d8576b"
            ],
            [
             0.6666666666666666,
             "#ed7953"
            ],
            [
             0.7777777777777778,
             "#fb9f3a"
            ],
            [
             0.8888888888888888,
             "#fdca26"
            ],
            [
             1,
             "#f0f921"
            ]
           ]
          },
          "colorway": [
           "#636efa",
           "#EF553B",
           "#00cc96",
           "#ab63fa",
           "#FFA15A",
           "#19d3f3",
           "#FF6692",
           "#B6E880",
           "#FF97FF",
           "#FECB52"
          ],
          "font": {
           "color": "#2a3f5f"
          },
          "geo": {
           "bgcolor": "white",
           "lakecolor": "white",
           "landcolor": "#E5ECF6",
           "showlakes": true,
           "showland": true,
           "subunitcolor": "white"
          },
          "hoverlabel": {
           "align": "left"
          },
          "hovermode": "closest",
          "mapbox": {
           "style": "light"
          },
          "paper_bgcolor": "white",
          "plot_bgcolor": "#E5ECF6",
          "polar": {
           "angularaxis": {
            "gridcolor": "white",
            "linecolor": "white",
            "ticks": ""
           },
           "bgcolor": "#E5ECF6",
           "radialaxis": {
            "gridcolor": "white",
            "linecolor": "white",
            "ticks": ""
           }
          },
          "scene": {
           "xaxis": {
            "backgroundcolor": "#E5ECF6",
            "gridcolor": "white",
            "gridwidth": 2,
            "linecolor": "white",
            "showbackground": true,
            "ticks": "",
            "zerolinecolor": "white"
           },
           "yaxis": {
            "backgroundcolor": "#E5ECF6",
            "gridcolor": "white",
            "gridwidth": 2,
            "linecolor": "white",
            "showbackground": true,
            "ticks": "",
            "zerolinecolor": "white"
           },
           "zaxis": {
            "backgroundcolor": "#E5ECF6",
            "gridcolor": "white",
            "gridwidth": 2,
            "linecolor": "white",
            "showbackground": true,
            "ticks": "",
            "zerolinecolor": "white"
           }
          },
          "shapedefaults": {
           "line": {
            "color": "#2a3f5f"
           }
          },
          "ternary": {
           "aaxis": {
            "gridcolor": "white",
            "linecolor": "white",
            "ticks": ""
           },
           "baxis": {
            "gridcolor": "white",
            "linecolor": "white",
            "ticks": ""
           },
           "bgcolor": "#E5ECF6",
           "caxis": {
            "gridcolor": "white",
            "linecolor": "white",
            "ticks": ""
           }
          },
          "title": {
           "x": 0.05
          },
          "xaxis": {
           "automargin": true,
           "gridcolor": "white",
           "linecolor": "white",
           "ticks": "",
           "title": {
            "standoff": 15
           },
           "zerolinecolor": "white",
           "zerolinewidth": 2
          },
          "yaxis": {
           "automargin": true,
           "gridcolor": "white",
           "linecolor": "white",
           "ticks": "",
           "title": {
            "standoff": 15
           },
           "zerolinecolor": "white",
           "zerolinewidth": 2
          }
         }
        },
        "xaxis": {
         "anchor": "y",
         "domain": [
          0,
          1
         ],
         "title": {
          "text": "index"
         }
        },
        "yaxis": {
         "anchor": "x",
         "domain": [
          0,
          1
         ],
         "title": {
          "text": "sum of 0"
         }
        }
       }
      }
     },
     "metadata": {},
     "output_type": "display_data"
    }
   ],
   "source": [
    "import plotly.express as px\n",
    "\n",
    "# plot the distribution of audio lengths\n",
    "px.histogram(pd.DataFrame.from_dict(audio_lengths, orient='index').reset_index(), x='index', y=0)"
   ]
  },
  {
   "cell_type": "code",
   "execution_count": 11,
   "metadata": {},
   "outputs": [
    {
     "name": "stdout",
     "output_type": "stream",
     "text": [
      "Mean audio length: 0    956.33121\n",
      "dtype: float64\n",
      "Median audio length: 0    911.7\n",
      "dtype: float64\n",
      "Max audio length: 0    1966.2\n",
      "dtype: float64\n",
      "Min audio length: 0    414.8\n",
      "dtype: float64\n"
     ]
    }
   ],
   "source": [
    "print(\"Mean audio length: {}\".format(pd.DataFrame.from_dict(audio_lengths, orient='index').mean()))\n",
    "print(\"Median audio length: {}\".format(pd.DataFrame.from_dict(audio_lengths, orient='index').median()))\n",
    "print(\"Max audio length: {}\".format(pd.DataFrame.from_dict(audio_lengths, orient='index').max()))\n",
    "print(\"Min audio length: {}\".format(pd.DataFrame.from_dict(audio_lengths, orient='index').min()))"
   ]
  },
  {
   "attachments": {},
   "cell_type": "markdown",
   "metadata": {},
   "source": [
    "## After Merging Only Participant Voice"
   ]
  },
  {
   "cell_type": "code",
   "execution_count": 10,
   "metadata": {},
   "outputs": [
    {
     "name": "stdout",
     "output_type": "stream",
     "text": [
      "413_PARTICIPANT_merged.wav\n",
      "300_PARTICIPANT_merged.wav\n",
      "301_PARTICIPANT_merged.wav\n",
      "302_PARTICIPANT_merged.wav\n",
      "303_PARTICIPANT_merged.wav\n",
      "304_PARTICIPANT_merged.wav\n",
      "305_PARTICIPANT_merged.wav\n",
      "306_PARTICIPANT_merged.wav\n",
      "307_PARTICIPANT_merged.wav\n",
      "308_PARTICIPANT_merged.wav\n",
      "309_PARTICIPANT_merged.wav\n",
      "310_PARTICIPANT_merged.wav\n",
      "311_PARTICIPANT_merged.wav\n",
      "312_PARTICIPANT_merged.wav\n",
      "313_PARTICIPANT_merged.wav\n",
      "314_PARTICIPANT_merged.wav\n",
      "315_PARTICIPANT_merged.wav\n",
      "316_PARTICIPANT_merged.wav\n",
      "317_PARTICIPANT_merged.wav\n",
      "318_PARTICIPANT_merged.wav\n",
      "319_PARTICIPANT_merged.wav\n",
      "320_PARTICIPANT_merged.wav\n",
      "321_PARTICIPANT_merged.wav\n",
      "322_PARTICIPANT_merged.wav\n",
      "323_PARTICIPANT_merged.wav\n",
      "324_PARTICIPANT_merged.wav\n",
      "325_PARTICIPANT_merged.wav\n",
      "326_PARTICIPANT_merged.wav\n",
      "327_PARTICIPANT_merged.wav\n",
      "328_PARTICIPANT_merged.wav\n",
      "329_PARTICIPANT_merged.wav\n",
      "330_PARTICIPANT_merged.wav\n",
      "331_PARTICIPANT_merged.wav\n",
      "332_PARTICIPANT_merged.wav\n",
      "333_PARTICIPANT_merged.wav\n",
      "334_PARTICIPANT_merged.wav\n",
      "335_PARTICIPANT_merged.wav\n",
      "336_PARTICIPANT_merged.wav\n",
      "337_PARTICIPANT_merged.wav\n",
      "338_PARTICIPANT_merged.wav\n",
      "339_PARTICIPANT_merged.wav\n",
      "340_PARTICIPANT_merged.wav\n",
      "341_PARTICIPANT_merged.wav\n",
      "343_PARTICIPANT_merged.wav\n",
      "344_PARTICIPANT_merged.wav\n",
      "345_PARTICIPANT_merged.wav\n",
      "346_PARTICIPANT_merged.wav\n",
      "347_PARTICIPANT_merged.wav\n",
      "348_PARTICIPANT_merged.wav\n",
      "349_PARTICIPANT_merged.wav\n",
      "350_PARTICIPANT_merged.wav\n",
      "351_PARTICIPANT_merged.wav\n",
      "352_PARTICIPANT_merged.wav\n",
      "353_PARTICIPANT_merged.wav\n",
      "354_PARTICIPANT_merged.wav\n",
      "355_PARTICIPANT_merged.wav\n",
      "356_PARTICIPANT_merged.wav\n",
      "357_PARTICIPANT_merged.wav\n",
      "358_PARTICIPANT_merged.wav\n",
      "359_PARTICIPANT_merged.wav\n",
      "360_PARTICIPANT_merged.wav\n",
      "361_PARTICIPANT_merged.wav\n",
      "362_PARTICIPANT_merged.wav\n",
      "363_PARTICIPANT_merged.wav\n",
      "364_PARTICIPANT_merged.wav\n",
      "365_PARTICIPANT_merged.wav\n",
      "366_PARTICIPANT_merged.wav\n",
      "367_PARTICIPANT_merged.wav\n",
      "368_PARTICIPANT_merged.wav\n",
      "369_PARTICIPANT_merged.wav\n",
      "370_PARTICIPANT_merged.wav\n",
      "371_PARTICIPANT_merged.wav\n",
      "372_PARTICIPANT_merged.wav\n",
      "373_PARTICIPANT_merged.wav\n",
      "374_PARTICIPANT_merged.wav\n",
      "375_PARTICIPANT_merged.wav\n",
      "376_PARTICIPANT_merged.wav\n",
      "377_PARTICIPANT_merged.wav\n",
      "378_PARTICIPANT_merged.wav\n",
      "379_PARTICIPANT_merged.wav\n",
      "380_PARTICIPANT_merged.wav\n",
      "381_PARTICIPANT_merged.wav\n",
      "382_PARTICIPANT_merged.wav\n",
      "383_PARTICIPANT_merged.wav\n",
      "384_PARTICIPANT_merged.wav\n",
      "385_PARTICIPANT_merged.wav\n",
      "386_PARTICIPANT_merged.wav\n",
      "387_PARTICIPANT_merged.wav\n",
      "388_PARTICIPANT_merged.wav\n",
      "389_PARTICIPANT_merged.wav\n",
      "390_PARTICIPANT_merged.wav\n",
      "391_PARTICIPANT_merged.wav\n",
      "392_PARTICIPANT_merged.wav\n",
      "393_PARTICIPANT_merged.wav\n",
      "395_PARTICIPANT_merged.wav\n",
      "396_PARTICIPANT_merged.wav\n",
      "397_PARTICIPANT_merged.wav\n",
      "399_PARTICIPANT_merged.wav\n",
      "400_PARTICIPANT_merged.wav\n",
      "401_PARTICIPANT_merged.wav\n",
      "402_PARTICIPANT_merged.wav\n",
      "403_PARTICIPANT_merged.wav\n",
      "404_PARTICIPANT_merged.wav\n",
      "405_PARTICIPANT_merged.wav\n",
      "410_PARTICIPANT_merged.wav\n",
      "411_PARTICIPANT_merged.wav\n",
      "409_PARTICIPANT_merged.wav\n",
      "412_PARTICIPANT_merged.wav\n",
      "423_PARTICIPANT_merged.wav\n",
      "428_PARTICIPANT_merged.wav\n",
      "407_PARTICIPANT_merged.wav\n",
      "418_PARTICIPANT_merged.wav\n",
      "414_PARTICIPANT_merged.wav\n",
      "406_PARTICIPANT_merged.wav\n",
      "419_PARTICIPANT_merged.wav\n",
      "408_PARTICIPANT_merged.wav\n",
      "429_PARTICIPANT_merged.wav\n",
      "424_PARTICIPANT_merged.wav\n",
      "415_PARTICIPANT_merged.wav\n",
      "425_PARTICIPANT_merged.wav\n",
      "420_PARTICIPANT_merged.wav\n",
      "421_PARTICIPANT_merged.wav\n",
      "416_PARTICIPANT_merged.wav\n",
      "430_PARTICIPANT_merged.wav\n",
      "422_PARTICIPANT_merged.wav\n",
      "426_PARTICIPANT_merged.wav\n",
      "431_PARTICIPANT_merged.wav\n",
      "427_PARTICIPANT_merged.wav\n",
      "417_PARTICIPANT_merged.wav\n",
      "433_PARTICIPANT_merged.wav\n",
      "438_PARTICIPANT_merged.wav\n",
      "432_PARTICIPANT_merged.wav\n",
      "443_PARTICIPANT_merged.wav\n",
      "434_PARTICIPANT_merged.wav\n",
      "448_PARTICIPANT_merged.wav\n",
      "444_PARTICIPANT_merged.wav\n",
      "439_PARTICIPANT_merged.wav\n",
      "435_PARTICIPANT_merged.wav\n",
      "445_PARTICIPANT_merged.wav\n",
      "436_PARTICIPANT_merged.wav\n",
      "440_PARTICIPANT_merged.wav\n",
      "446_PARTICIPANT_merged.wav\n",
      "449_PARTICIPANT_merged.wav\n",
      "437_PARTICIPANT_merged.wav\n",
      "450_PARTICIPANT_merged.wav\n",
      "447_PARTICIPANT_merged.wav\n",
      "453_PARTICIPANT_merged.wav\n",
      "458_PARTICIPANT_merged.wav\n",
      "451_PARTICIPANT_merged.wav\n",
      "441_PARTICIPANT_merged.wav\n",
      "442_PARTICIPANT_merged.wav\n",
      "459_PARTICIPANT_merged.wav\n",
      "452_PARTICIPANT_merged.wav\n",
      "461_PARTICIPANT_merged.wav\n",
      "454_PARTICIPANT_merged.wav\n",
      "464_PARTICIPANT_merged.wav\n",
      "469_PARTICIPANT_merged.wav\n",
      "455_PARTICIPANT_merged.wav\n",
      "462_PARTICIPANT_merged.wav\n",
      "465_PARTICIPANT_merged.wav\n",
      "463_PARTICIPANT_merged.wav\n",
      "456_PARTICIPANT_merged.wav\n",
      "470_PARTICIPANT_merged.wav\n",
      "457_PARTICIPANT_merged.wav\n",
      "471_PARTICIPANT_merged.wav\n",
      "474_PARTICIPANT_merged.wav\n",
      "466_PARTICIPANT_merged.wav\n",
      "472_PARTICIPANT_merged.wav\n",
      "475_PARTICIPANT_merged.wav\n",
      "479_PARTICIPANT_merged.wav\n",
      "476_PARTICIPANT_merged.wav\n",
      "467_PARTICIPANT_merged.wav\n",
      "473_PARTICIPANT_merged.wav\n",
      "480_PARTICIPANT_merged.wav\n",
      "484_PARTICIPANT_merged.wav\n",
      "477_PARTICIPANT_merged.wav\n",
      "468_PARTICIPANT_merged.wav\n",
      "481_PARTICIPANT_merged.wav\n",
      "485_PARTICIPANT_merged.wav\n",
      "486_PARTICIPANT_merged.wav\n",
      "478_PARTICIPANT_merged.wav\n",
      "487_PARTICIPANT_merged.wav\n",
      "488_PARTICIPANT_merged.wav\n",
      "489_PARTICIPANT_merged.wav\n",
      "482_PARTICIPANT_merged.wav\n",
      "490_PARTICIPANT_merged.wav\n",
      "491_PARTICIPANT_merged.wav\n",
      "483_PARTICIPANT_merged.wav\n",
      "492_PARTICIPANT_merged.wav\n"
     ]
    }
   ],
   "source": [
    "merged_audio_lengths = {}\n",
    "\n",
    "for folder in os.listdir(directory):\n",
    "    if folder.endswith('.zip') or folder.startswith('._'):\n",
    "        # don't care about zip files\n",
    "        continue\n",
    "    for file in os.listdir(os.path.join(directory, folder)):\n",
    "        if file.endswith('PARTICIPANT_merged.wav') and not file.startswith('._'):\n",
    "            print(file)\n",
    "            merged_audio_lengths[file] = librosa.get_duration(filename=os.path.join(directory, folder, file))"
   ]
  },
  {
   "cell_type": "code",
   "execution_count": 14,
   "metadata": {},
   "outputs": [
    {
     "data": {
      "application/vnd.plotly.v1+json": {
       "config": {
        "plotlyServerURL": "https://plot.ly"
       },
       "data": [
        {
         "alignmentgroup": "True",
         "bingroup": "x",
         "histfunc": "sum",
         "hovertemplate": "=%{x}<br>sum of 0=%{y}<extra></extra>",
         "legendgroup": "",
         "marker": {
          "color": "#636efa",
          "pattern": {
           "shape": ""
          }
         },
         "name": "",
         "offsetgroup": "",
         "orientation": "v",
         "showlegend": false,
         "type": "histogram",
         "x": [
          "413_PARTICIPANT_merged.wav",
          "300_PARTICIPANT_merged.wav",
          "301_PARTICIPANT_merged.wav",
          "302_PARTICIPANT_merged.wav",
          "303_PARTICIPANT_merged.wav",
          "304_PARTICIPANT_merged.wav",
          "305_PARTICIPANT_merged.wav",
          "306_PARTICIPANT_merged.wav",
          "307_PARTICIPANT_merged.wav",
          "308_PARTICIPANT_merged.wav",
          "309_PARTICIPANT_merged.wav",
          "310_PARTICIPANT_merged.wav",
          "311_PARTICIPANT_merged.wav",
          "312_PARTICIPANT_merged.wav",
          "313_PARTICIPANT_merged.wav",
          "314_PARTICIPANT_merged.wav",
          "315_PARTICIPANT_merged.wav",
          "316_PARTICIPANT_merged.wav",
          "317_PARTICIPANT_merged.wav",
          "318_PARTICIPANT_merged.wav",
          "319_PARTICIPANT_merged.wav",
          "320_PARTICIPANT_merged.wav",
          "321_PARTICIPANT_merged.wav",
          "322_PARTICIPANT_merged.wav",
          "323_PARTICIPANT_merged.wav",
          "324_PARTICIPANT_merged.wav",
          "325_PARTICIPANT_merged.wav",
          "326_PARTICIPANT_merged.wav",
          "327_PARTICIPANT_merged.wav",
          "328_PARTICIPANT_merged.wav",
          "329_PARTICIPANT_merged.wav",
          "330_PARTICIPANT_merged.wav",
          "331_PARTICIPANT_merged.wav",
          "332_PARTICIPANT_merged.wav",
          "333_PARTICIPANT_merged.wav",
          "334_PARTICIPANT_merged.wav",
          "335_PARTICIPANT_merged.wav",
          "336_PARTICIPANT_merged.wav",
          "337_PARTICIPANT_merged.wav",
          "338_PARTICIPANT_merged.wav",
          "339_PARTICIPANT_merged.wav",
          "340_PARTICIPANT_merged.wav",
          "341_PARTICIPANT_merged.wav",
          "343_PARTICIPANT_merged.wav",
          "344_PARTICIPANT_merged.wav",
          "345_PARTICIPANT_merged.wav",
          "346_PARTICIPANT_merged.wav",
          "347_PARTICIPANT_merged.wav",
          "348_PARTICIPANT_merged.wav",
          "349_PARTICIPANT_merged.wav",
          "350_PARTICIPANT_merged.wav",
          "351_PARTICIPANT_merged.wav",
          "352_PARTICIPANT_merged.wav",
          "353_PARTICIPANT_merged.wav",
          "354_PARTICIPANT_merged.wav",
          "355_PARTICIPANT_merged.wav",
          "356_PARTICIPANT_merged.wav",
          "357_PARTICIPANT_merged.wav",
          "358_PARTICIPANT_merged.wav",
          "359_PARTICIPANT_merged.wav",
          "360_PARTICIPANT_merged.wav",
          "361_PARTICIPANT_merged.wav",
          "362_PARTICIPANT_merged.wav",
          "363_PARTICIPANT_merged.wav",
          "364_PARTICIPANT_merged.wav",
          "365_PARTICIPANT_merged.wav",
          "366_PARTICIPANT_merged.wav",
          "367_PARTICIPANT_merged.wav",
          "368_PARTICIPANT_merged.wav",
          "369_PARTICIPANT_merged.wav",
          "370_PARTICIPANT_merged.wav",
          "371_PARTICIPANT_merged.wav",
          "372_PARTICIPANT_merged.wav",
          "373_PARTICIPANT_merged.wav",
          "374_PARTICIPANT_merged.wav",
          "375_PARTICIPANT_merged.wav",
          "376_PARTICIPANT_merged.wav",
          "377_PARTICIPANT_merged.wav",
          "378_PARTICIPANT_merged.wav",
          "379_PARTICIPANT_merged.wav",
          "380_PARTICIPANT_merged.wav",
          "381_PARTICIPANT_merged.wav",
          "382_PARTICIPANT_merged.wav",
          "383_PARTICIPANT_merged.wav",
          "384_PARTICIPANT_merged.wav",
          "385_PARTICIPANT_merged.wav",
          "386_PARTICIPANT_merged.wav",
          "387_PARTICIPANT_merged.wav",
          "388_PARTICIPANT_merged.wav",
          "389_PARTICIPANT_merged.wav",
          "390_PARTICIPANT_merged.wav",
          "391_PARTICIPANT_merged.wav",
          "392_PARTICIPANT_merged.wav",
          "393_PARTICIPANT_merged.wav",
          "395_PARTICIPANT_merged.wav",
          "396_PARTICIPANT_merged.wav",
          "397_PARTICIPANT_merged.wav",
          "399_PARTICIPANT_merged.wav",
          "400_PARTICIPANT_merged.wav",
          "401_PARTICIPANT_merged.wav",
          "402_PARTICIPANT_merged.wav",
          "403_PARTICIPANT_merged.wav",
          "404_PARTICIPANT_merged.wav",
          "405_PARTICIPANT_merged.wav",
          "410_PARTICIPANT_merged.wav",
          "411_PARTICIPANT_merged.wav",
          "409_PARTICIPANT_merged.wav",
          "412_PARTICIPANT_merged.wav",
          "423_PARTICIPANT_merged.wav",
          "428_PARTICIPANT_merged.wav",
          "407_PARTICIPANT_merged.wav",
          "418_PARTICIPANT_merged.wav",
          "414_PARTICIPANT_merged.wav",
          "406_PARTICIPANT_merged.wav",
          "419_PARTICIPANT_merged.wav",
          "408_PARTICIPANT_merged.wav",
          "429_PARTICIPANT_merged.wav",
          "424_PARTICIPANT_merged.wav",
          "415_PARTICIPANT_merged.wav",
          "425_PARTICIPANT_merged.wav",
          "420_PARTICIPANT_merged.wav",
          "421_PARTICIPANT_merged.wav",
          "416_PARTICIPANT_merged.wav",
          "430_PARTICIPANT_merged.wav",
          "422_PARTICIPANT_merged.wav",
          "426_PARTICIPANT_merged.wav",
          "431_PARTICIPANT_merged.wav",
          "427_PARTICIPANT_merged.wav",
          "417_PARTICIPANT_merged.wav",
          "433_PARTICIPANT_merged.wav",
          "438_PARTICIPANT_merged.wav",
          "432_PARTICIPANT_merged.wav",
          "443_PARTICIPANT_merged.wav",
          "434_PARTICIPANT_merged.wav",
          "448_PARTICIPANT_merged.wav",
          "444_PARTICIPANT_merged.wav",
          "439_PARTICIPANT_merged.wav",
          "435_PARTICIPANT_merged.wav",
          "445_PARTICIPANT_merged.wav",
          "436_PARTICIPANT_merged.wav",
          "440_PARTICIPANT_merged.wav",
          "446_PARTICIPANT_merged.wav",
          "449_PARTICIPANT_merged.wav",
          "437_PARTICIPANT_merged.wav",
          "450_PARTICIPANT_merged.wav",
          "447_PARTICIPANT_merged.wav",
          "453_PARTICIPANT_merged.wav",
          "458_PARTICIPANT_merged.wav",
          "451_PARTICIPANT_merged.wav",
          "441_PARTICIPANT_merged.wav",
          "442_PARTICIPANT_merged.wav",
          "459_PARTICIPANT_merged.wav",
          "452_PARTICIPANT_merged.wav",
          "461_PARTICIPANT_merged.wav",
          "454_PARTICIPANT_merged.wav",
          "464_PARTICIPANT_merged.wav",
          "469_PARTICIPANT_merged.wav",
          "455_PARTICIPANT_merged.wav",
          "462_PARTICIPANT_merged.wav",
          "465_PARTICIPANT_merged.wav",
          "463_PARTICIPANT_merged.wav",
          "456_PARTICIPANT_merged.wav",
          "470_PARTICIPANT_merged.wav",
          "457_PARTICIPANT_merged.wav",
          "471_PARTICIPANT_merged.wav",
          "474_PARTICIPANT_merged.wav",
          "466_PARTICIPANT_merged.wav",
          "472_PARTICIPANT_merged.wav",
          "475_PARTICIPANT_merged.wav",
          "479_PARTICIPANT_merged.wav",
          "476_PARTICIPANT_merged.wav",
          "467_PARTICIPANT_merged.wav",
          "473_PARTICIPANT_merged.wav",
          "480_PARTICIPANT_merged.wav",
          "484_PARTICIPANT_merged.wav",
          "477_PARTICIPANT_merged.wav",
          "468_PARTICIPANT_merged.wav",
          "481_PARTICIPANT_merged.wav",
          "485_PARTICIPANT_merged.wav",
          "486_PARTICIPANT_merged.wav",
          "478_PARTICIPANT_merged.wav",
          "487_PARTICIPANT_merged.wav",
          "488_PARTICIPANT_merged.wav",
          "489_PARTICIPANT_merged.wav",
          "482_PARTICIPANT_merged.wav",
          "490_PARTICIPANT_merged.wav",
          "491_PARTICIPANT_merged.wav",
          "483_PARTICIPANT_merged.wav",
          "492_PARTICIPANT_merged.wav"
         ],
         "xaxis": "x",
         "y": [
          518.550125,
          155.76,
          475.4400625,
          208.9329375,
          642.9300625,
          362.5999375,
          1118.4899375,
          509.37,
          843.7850625,
          326.7070625,
          182.0180625,
          285.8499375,
          200.759875,
          313.8999375,
          267.8449375,
          1018.1679375,
          472.9579375,
          205.67,
          242.3159375,
          229.5199375,
          224.47,
          249.249875,
          290.45,
          477.1270625,
          385.0700625,
          274.9,
          514.7500625,
          168.51,
          266.572,
          664.26,
          375.214,
          192.1499375,
          402.7899375,
          298.9699375,
          413.1899375,
          441.7049375,
          431.1599375,
          385.5670625,
          1282.819875,
          279.7499375,
          419.055,
          171.3919375,
          385.1099375,
          237.0500625,
          604.25,
          481.3949375,
          653.2203125,
          127.9700625,
          296.49,
          515.8199375,
          458.7279375,
          406.88,
          499.5000625,
          415.3999375,
          146.385,
          332.355,
          527.731,
          133.9449375,
          238.334125,
          603.6320625,
          202.93,
          381.5599375,
          267.1700625,
          709.3340625,
          1174.9379375,
          606.01175,
          781.6220625,
          987.244,
          911.2910625,
          732.8959375,
          790.009875,
          253.259875,
          706.6999375,
          846.8400625,
          760.876125,
          135.3201875,
          530.2720625,
          803.7709375,
          413.3100625,
          611.964,
          1214.8889375,
          463.37,
          295.7601875,
          891.9290625,
          431.2099375,
          62.2299375,
          650.6199375,
          168.2679375,
          154.96,
          225.1499375,
          632.77,
          212.72,
          216.23,
          205.950125,
          430.9200625,
          309.56,
          442.869875,
          336.54,
          412.45,
          421.5800625,
          447.5999375,
          443.055,
          480.0899375,
          853.5641875,
          551.039875,
          906.9199375,
          578.36,
          330.7199375,
          433.0900625,
          249.4400625,
          825.1600625,
          587.0400625,
          523.0300625,
          305.06,
          561.11,
          321.3300625,
          410.86,
          719.49,
          351.082,
          613.49,
          383.8299375,
          378.755,
          432.56,
          400.7050625,
          750.4749375,
          340.630125,
          350.2951875,
          322.4000625,
          439.4,
          296.149875,
          1035.077875,
          385.885,
          201.9049375,
          813.926875,
          795.0096875,
          841.313,
          912.704875,
          503.442125,
          310.385125,
          329.3949375,
          643.9801875,
          578.5540625,
          724.6099375,
          440.9899375,
          723.604875,
          442.6399375,
          457.25,
          547.655,
          636.25,
          284.9099375,
          466.708,
          350.415125,
          246.6800625,
          295.8199375,
          208.0749375,
          512.880125,
          629.904875,
          384.545125,
          583.17,
          693.0999375,
          349.675,
          466.735,
          493.6400625,
          460.43,
          591.3900625,
          459.585,
          910.9400625,
          391.2680625,
          204.0599375,
          230.104,
          195.5550625,
          356.71,
          94.235,
          351.7400625,
          549.490125,
          762.7749375,
          484.149875,
          599.385,
          196.0999375,
          261.810125,
          403.347,
          578.3099375,
          422.4899375,
          168.8100625,
          505.499875,
          185.900125,
          413.58,
          828.4998125,
          476.22
         ],
         "yaxis": "y"
        }
       ],
       "layout": {
        "barmode": "relative",
        "legend": {
         "tracegroupgap": 0
        },
        "margin": {
         "t": 60
        },
        "template": {
         "data": {
          "bar": [
           {
            "error_x": {
             "color": "#2a3f5f"
            },
            "error_y": {
             "color": "#2a3f5f"
            },
            "marker": {
             "line": {
              "color": "#E5ECF6",
              "width": 0.5
             },
             "pattern": {
              "fillmode": "overlay",
              "size": 10,
              "solidity": 0.2
             }
            },
            "type": "bar"
           }
          ],
          "barpolar": [
           {
            "marker": {
             "line": {
              "color": "#E5ECF6",
              "width": 0.5
             },
             "pattern": {
              "fillmode": "overlay",
              "size": 10,
              "solidity": 0.2
             }
            },
            "type": "barpolar"
           }
          ],
          "carpet": [
           {
            "aaxis": {
             "endlinecolor": "#2a3f5f",
             "gridcolor": "white",
             "linecolor": "white",
             "minorgridcolor": "white",
             "startlinecolor": "#2a3f5f"
            },
            "baxis": {
             "endlinecolor": "#2a3f5f",
             "gridcolor": "white",
             "linecolor": "white",
             "minorgridcolor": "white",
             "startlinecolor": "#2a3f5f"
            },
            "type": "carpet"
           }
          ],
          "choropleth": [
           {
            "colorbar": {
             "outlinewidth": 0,
             "ticks": ""
            },
            "type": "choropleth"
           }
          ],
          "contour": [
           {
            "colorbar": {
             "outlinewidth": 0,
             "ticks": ""
            },
            "colorscale": [
             [
              0,
              "#0d0887"
             ],
             [
              0.1111111111111111,
              "#46039f"
             ],
             [
              0.2222222222222222,
              "#7201a8"
             ],
             [
              0.3333333333333333,
              "#9c179e"
             ],
             [
              0.4444444444444444,
              "#bd3786"
             ],
             [
              0.5555555555555556,
              "#d8576b"
             ],
             [
              0.6666666666666666,
              "#ed7953"
             ],
             [
              0.7777777777777778,
              "#fb9f3a"
             ],
             [
              0.8888888888888888,
              "#fdca26"
             ],
             [
              1,
              "#f0f921"
             ]
            ],
            "type": "contour"
           }
          ],
          "contourcarpet": [
           {
            "colorbar": {
             "outlinewidth": 0,
             "ticks": ""
            },
            "type": "contourcarpet"
           }
          ],
          "heatmap": [
           {
            "colorbar": {
             "outlinewidth": 0,
             "ticks": ""
            },
            "colorscale": [
             [
              0,
              "#0d0887"
             ],
             [
              0.1111111111111111,
              "#46039f"
             ],
             [
              0.2222222222222222,
              "#7201a8"
             ],
             [
              0.3333333333333333,
              "#9c179e"
             ],
             [
              0.4444444444444444,
              "#bd3786"
             ],
             [
              0.5555555555555556,
              "#d8576b"
             ],
             [
              0.6666666666666666,
              "#ed7953"
             ],
             [
              0.7777777777777778,
              "#fb9f3a"
             ],
             [
              0.8888888888888888,
              "#fdca26"
             ],
             [
              1,
              "#f0f921"
             ]
            ],
            "type": "heatmap"
           }
          ],
          "heatmapgl": [
           {
            "colorbar": {
             "outlinewidth": 0,
             "ticks": ""
            },
            "colorscale": [
             [
              0,
              "#0d0887"
             ],
             [
              0.1111111111111111,
              "#46039f"
             ],
             [
              0.2222222222222222,
              "#7201a8"
             ],
             [
              0.3333333333333333,
              "#9c179e"
             ],
             [
              0.4444444444444444,
              "#bd3786"
             ],
             [
              0.5555555555555556,
              "#d8576b"
             ],
             [
              0.6666666666666666,
              "#ed7953"
             ],
             [
              0.7777777777777778,
              "#fb9f3a"
             ],
             [
              0.8888888888888888,
              "#fdca26"
             ],
             [
              1,
              "#f0f921"
             ]
            ],
            "type": "heatmapgl"
           }
          ],
          "histogram": [
           {
            "marker": {
             "pattern": {
              "fillmode": "overlay",
              "size": 10,
              "solidity": 0.2
             }
            },
            "type": "histogram"
           }
          ],
          "histogram2d": [
           {
            "colorbar": {
             "outlinewidth": 0,
             "ticks": ""
            },
            "colorscale": [
             [
              0,
              "#0d0887"
             ],
             [
              0.1111111111111111,
              "#46039f"
             ],
             [
              0.2222222222222222,
              "#7201a8"
             ],
             [
              0.3333333333333333,
              "#9c179e"
             ],
             [
              0.4444444444444444,
              "#bd3786"
             ],
             [
              0.5555555555555556,
              "#d8576b"
             ],
             [
              0.6666666666666666,
              "#ed7953"
             ],
             [
              0.7777777777777778,
              "#fb9f3a"
             ],
             [
              0.8888888888888888,
              "#fdca26"
             ],
             [
              1,
              "#f0f921"
             ]
            ],
            "type": "histogram2d"
           }
          ],
          "histogram2dcontour": [
           {
            "colorbar": {
             "outlinewidth": 0,
             "ticks": ""
            },
            "colorscale": [
             [
              0,
              "#0d0887"
             ],
             [
              0.1111111111111111,
              "#46039f"
             ],
             [
              0.2222222222222222,
              "#7201a8"
             ],
             [
              0.3333333333333333,
              "#9c179e"
             ],
             [
              0.4444444444444444,
              "#bd3786"
             ],
             [
              0.5555555555555556,
              "#d8576b"
             ],
             [
              0.6666666666666666,
              "#ed7953"
             ],
             [
              0.7777777777777778,
              "#fb9f3a"
             ],
             [
              0.8888888888888888,
              "#fdca26"
             ],
             [
              1,
              "#f0f921"
             ]
            ],
            "type": "histogram2dcontour"
           }
          ],
          "mesh3d": [
           {
            "colorbar": {
             "outlinewidth": 0,
             "ticks": ""
            },
            "type": "mesh3d"
           }
          ],
          "parcoords": [
           {
            "line": {
             "colorbar": {
              "outlinewidth": 0,
              "ticks": ""
             }
            },
            "type": "parcoords"
           }
          ],
          "pie": [
           {
            "automargin": true,
            "type": "pie"
           }
          ],
          "scatter": [
           {
            "marker": {
             "colorbar": {
              "outlinewidth": 0,
              "ticks": ""
             }
            },
            "type": "scatter"
           }
          ],
          "scatter3d": [
           {
            "line": {
             "colorbar": {
              "outlinewidth": 0,
              "ticks": ""
             }
            },
            "marker": {
             "colorbar": {
              "outlinewidth": 0,
              "ticks": ""
             }
            },
            "type": "scatter3d"
           }
          ],
          "scattercarpet": [
           {
            "marker": {
             "colorbar": {
              "outlinewidth": 0,
              "ticks": ""
             }
            },
            "type": "scattercarpet"
           }
          ],
          "scattergeo": [
           {
            "marker": {
             "colorbar": {
              "outlinewidth": 0,
              "ticks": ""
             }
            },
            "type": "scattergeo"
           }
          ],
          "scattergl": [
           {
            "marker": {
             "colorbar": {
              "outlinewidth": 0,
              "ticks": ""
             }
            },
            "type": "scattergl"
           }
          ],
          "scattermapbox": [
           {
            "marker": {
             "colorbar": {
              "outlinewidth": 0,
              "ticks": ""
             }
            },
            "type": "scattermapbox"
           }
          ],
          "scatterpolar": [
           {
            "marker": {
             "colorbar": {
              "outlinewidth": 0,
              "ticks": ""
             }
            },
            "type": "scatterpolar"
           }
          ],
          "scatterpolargl": [
           {
            "marker": {
             "colorbar": {
              "outlinewidth": 0,
              "ticks": ""
             }
            },
            "type": "scatterpolargl"
           }
          ],
          "scatterternary": [
           {
            "marker": {
             "colorbar": {
              "outlinewidth": 0,
              "ticks": ""
             }
            },
            "type": "scatterternary"
           }
          ],
          "surface": [
           {
            "colorbar": {
             "outlinewidth": 0,
             "ticks": ""
            },
            "colorscale": [
             [
              0,
              "#0d0887"
             ],
             [
              0.1111111111111111,
              "#46039f"
             ],
             [
              0.2222222222222222,
              "#7201a8"
             ],
             [
              0.3333333333333333,
              "#9c179e"
             ],
             [
              0.4444444444444444,
              "#bd3786"
             ],
             [
              0.5555555555555556,
              "#d8576b"
             ],
             [
              0.6666666666666666,
              "#ed7953"
             ],
             [
              0.7777777777777778,
              "#fb9f3a"
             ],
             [
              0.8888888888888888,
              "#fdca26"
             ],
             [
              1,
              "#f0f921"
             ]
            ],
            "type": "surface"
           }
          ],
          "table": [
           {
            "cells": {
             "fill": {
              "color": "#EBF0F8"
             },
             "line": {
              "color": "white"
             }
            },
            "header": {
             "fill": {
              "color": "#C8D4E3"
             },
             "line": {
              "color": "white"
             }
            },
            "type": "table"
           }
          ]
         },
         "layout": {
          "annotationdefaults": {
           "arrowcolor": "#2a3f5f",
           "arrowhead": 0,
           "arrowwidth": 1
          },
          "autotypenumbers": "strict",
          "coloraxis": {
           "colorbar": {
            "outlinewidth": 0,
            "ticks": ""
           }
          },
          "colorscale": {
           "diverging": [
            [
             0,
             "#8e0152"
            ],
            [
             0.1,
             "#c51b7d"
            ],
            [
             0.2,
             "#de77ae"
            ],
            [
             0.3,
             "#f1b6da"
            ],
            [
             0.4,
             "#fde0ef"
            ],
            [
             0.5,
             "#f7f7f7"
            ],
            [
             0.6,
             "#e6f5d0"
            ],
            [
             0.7,
             "#b8e186"
            ],
            [
             0.8,
             "#7fbc41"
            ],
            [
             0.9,
             "#4d9221"
            ],
            [
             1,
             "#276419"
            ]
           ],
           "sequential": [
            [
             0,
             "#0d0887"
            ],
            [
             0.1111111111111111,
             "#46039f"
            ],
            [
             0.2222222222222222,
             "#7201a8"
            ],
            [
             0.3333333333333333,
             "#9c179e"
            ],
            [
             0.4444444444444444,
             "#bd3786"
            ],
            [
             0.5555555555555556,
             "#d8576b"
            ],
            [
             0.6666666666666666,
             "#ed7953"
            ],
            [
             0.7777777777777778,
             "#fb9f3a"
            ],
            [
             0.8888888888888888,
             "#fdca26"
            ],
            [
             1,
             "#f0f921"
            ]
           ],
           "sequentialminus": [
            [
             0,
             "#0d0887"
            ],
            [
             0.1111111111111111,
             "#46039f"
            ],
            [
             0.2222222222222222,
             "#7201a8"
            ],
            [
             0.3333333333333333,
             "#9c179e"
            ],
            [
             0.4444444444444444,
             "#bd3786"
            ],
            [
             0.5555555555555556,
             "#d8576b"
            ],
            [
             0.6666666666666666,
             "#ed7953"
            ],
            [
             0.7777777777777778,
             "#fb9f3a"
            ],
            [
             0.8888888888888888,
             "#fdca26"
            ],
            [
             1,
             "#f0f921"
            ]
           ]
          },
          "colorway": [
           "#636efa",
           "#EF553B",
           "#00cc96",
           "#ab63fa",
           "#FFA15A",
           "#19d3f3",
           "#FF6692",
           "#B6E880",
           "#FF97FF",
           "#FECB52"
          ],
          "font": {
           "color": "#2a3f5f"
          },
          "geo": {
           "bgcolor": "white",
           "lakecolor": "white",
           "landcolor": "#E5ECF6",
           "showlakes": true,
           "showland": true,
           "subunitcolor": "white"
          },
          "hoverlabel": {
           "align": "left"
          },
          "hovermode": "closest",
          "mapbox": {
           "style": "light"
          },
          "paper_bgcolor": "white",
          "plot_bgcolor": "#E5ECF6",
          "polar": {
           "angularaxis": {
            "gridcolor": "white",
            "linecolor": "white",
            "ticks": ""
           },
           "bgcolor": "#E5ECF6",
           "radialaxis": {
            "gridcolor": "white",
            "linecolor": "white",
            "ticks": ""
           }
          },
          "scene": {
           "xaxis": {
            "backgroundcolor": "#E5ECF6",
            "gridcolor": "white",
            "gridwidth": 2,
            "linecolor": "white",
            "showbackground": true,
            "ticks": "",
            "zerolinecolor": "white"
           },
           "yaxis": {
            "backgroundcolor": "#E5ECF6",
            "gridcolor": "white",
            "gridwidth": 2,
            "linecolor": "white",
            "showbackground": true,
            "ticks": "",
            "zerolinecolor": "white"
           },
           "zaxis": {
            "backgroundcolor": "#E5ECF6",
            "gridcolor": "white",
            "gridwidth": 2,
            "linecolor": "white",
            "showbackground": true,
            "ticks": "",
            "zerolinecolor": "white"
           }
          },
          "shapedefaults": {
           "line": {
            "color": "#2a3f5f"
           }
          },
          "ternary": {
           "aaxis": {
            "gridcolor": "white",
            "linecolor": "white",
            "ticks": ""
           },
           "baxis": {
            "gridcolor": "white",
            "linecolor": "white",
            "ticks": ""
           },
           "bgcolor": "#E5ECF6",
           "caxis": {
            "gridcolor": "white",
            "linecolor": "white",
            "ticks": ""
           }
          },
          "title": {
           "x": 0.05
          },
          "xaxis": {
           "automargin": true,
           "gridcolor": "white",
           "linecolor": "white",
           "ticks": "",
           "title": {
            "standoff": 15
           },
           "zerolinecolor": "white",
           "zerolinewidth": 2
          },
          "yaxis": {
           "automargin": true,
           "gridcolor": "white",
           "linecolor": "white",
           "ticks": "",
           "title": {
            "standoff": 15
           },
           "zerolinecolor": "white",
           "zerolinewidth": 2
          }
         }
        },
        "xaxis": {
         "anchor": "y",
         "domain": [
          0,
          1
         ],
         "title": {
          "text": ""
         }
        },
        "yaxis": {
         "anchor": "x",
         "domain": [
          0,
          1
         ],
         "title": {
          "text": "sum of 0"
         }
        }
       }
      }
     },
     "metadata": {},
     "output_type": "display_data"
    }
   ],
   "source": [
    "import plotly.express as px\n",
    "\n",
    "# plot the distribution of audio lengths\n",
    "px.histogram(pd.DataFrame.from_dict(merged_audio_lengths, orient='index').reset_index(), x='index', y=0, labels={'index': ''})"
   ]
  },
  {
   "cell_type": "code",
   "execution_count": 15,
   "metadata": {},
   "outputs": [
    {
     "name": "stdout",
     "output_type": "stream",
     "text": [
      "Mean audio length: 0    465.619758\n",
      "dtype: float64\n",
      "Median audio length: 0    430.920062\n",
      "dtype: float64\n",
      "Max audio length: 0    1282.819875\n",
      "dtype: float64\n",
      "Min audio length: 0    62.229937\n",
      "dtype: float64\n"
     ]
    }
   ],
   "source": [
    "print(\"Mean audio length: {}\".format(pd.DataFrame.from_dict(merged_audio_lengths, orient='index').mean()))\n",
    "print(\"Median audio length: {}\".format(pd.DataFrame.from_dict(merged_audio_lengths, orient='index').median()))\n",
    "print(\"Max audio length: {}\".format(pd.DataFrame.from_dict(merged_audio_lengths, orient='index').max()))\n",
    "print(\"Min audio length: {}\".format(pd.DataFrame.from_dict(merged_audio_lengths, orient='index').min()))"
   ]
  },
  {
   "attachments": {},
   "cell_type": "markdown",
   "metadata": {},
   "source": [
    "### Zero-Crossing Rate"
   ]
  },
  {
   "cell_type": "code",
   "execution_count": 17,
   "metadata": {},
   "outputs": [
    {
     "name": "stdout",
     "output_type": "stream",
     "text": [
      "413_PARTICIPANT_merged.wav\n",
      "300_PARTICIPANT_merged.wav\n",
      "301_PARTICIPANT_merged.wav\n",
      "302_PARTICIPANT_merged.wav\n",
      "303_PARTICIPANT_merged.wav\n",
      "304_PARTICIPANT_merged.wav\n",
      "305_PARTICIPANT_merged.wav\n",
      "306_PARTICIPANT_merged.wav\n",
      "307_PARTICIPANT_merged.wav\n",
      "308_PARTICIPANT_merged.wav\n",
      "309_PARTICIPANT_merged.wav\n",
      "310_PARTICIPANT_merged.wav\n",
      "311_PARTICIPANT_merged.wav\n",
      "312_PARTICIPANT_merged.wav\n",
      "313_PARTICIPANT_merged.wav\n",
      "314_PARTICIPANT_merged.wav\n",
      "315_PARTICIPANT_merged.wav\n",
      "316_PARTICIPANT_merged.wav\n",
      "317_PARTICIPANT_merged.wav\n",
      "318_PARTICIPANT_merged.wav\n",
      "319_PARTICIPANT_merged.wav\n",
      "320_PARTICIPANT_merged.wav\n",
      "321_PARTICIPANT_merged.wav\n",
      "322_PARTICIPANT_merged.wav\n",
      "323_PARTICIPANT_merged.wav\n",
      "324_PARTICIPANT_merged.wav\n",
      "325_PARTICIPANT_merged.wav\n",
      "326_PARTICIPANT_merged.wav\n",
      "327_PARTICIPANT_merged.wav\n",
      "328_PARTICIPANT_merged.wav\n",
      "329_PARTICIPANT_merged.wav\n",
      "330_PARTICIPANT_merged.wav\n",
      "331_PARTICIPANT_merged.wav\n",
      "332_PARTICIPANT_merged.wav\n",
      "333_PARTICIPANT_merged.wav\n",
      "334_PARTICIPANT_merged.wav\n",
      "335_PARTICIPANT_merged.wav\n",
      "336_PARTICIPANT_merged.wav\n",
      "337_PARTICIPANT_merged.wav\n",
      "338_PARTICIPANT_merged.wav\n",
      "339_PARTICIPANT_merged.wav\n",
      "340_PARTICIPANT_merged.wav\n",
      "341_PARTICIPANT_merged.wav\n",
      "343_PARTICIPANT_merged.wav\n",
      "344_PARTICIPANT_merged.wav\n",
      "345_PARTICIPANT_merged.wav\n",
      "346_PARTICIPANT_merged.wav\n",
      "347_PARTICIPANT_merged.wav\n",
      "348_PARTICIPANT_merged.wav\n",
      "349_PARTICIPANT_merged.wav\n",
      "350_PARTICIPANT_merged.wav\n",
      "351_PARTICIPANT_merged.wav\n",
      "352_PARTICIPANT_merged.wav\n",
      "353_PARTICIPANT_merged.wav\n",
      "354_PARTICIPANT_merged.wav\n",
      "355_PARTICIPANT_merged.wav\n",
      "356_PARTICIPANT_merged.wav\n",
      "357_PARTICIPANT_merged.wav\n",
      "358_PARTICIPANT_merged.wav\n",
      "359_PARTICIPANT_merged.wav\n",
      "360_PARTICIPANT_merged.wav\n",
      "361_PARTICIPANT_merged.wav\n",
      "362_PARTICIPANT_merged.wav\n",
      "363_PARTICIPANT_merged.wav\n",
      "364_PARTICIPANT_merged.wav\n",
      "365_PARTICIPANT_merged.wav\n",
      "366_PARTICIPANT_merged.wav\n",
      "367_PARTICIPANT_merged.wav\n",
      "368_PARTICIPANT_merged.wav\n",
      "369_PARTICIPANT_merged.wav\n",
      "370_PARTICIPANT_merged.wav\n",
      "371_PARTICIPANT_merged.wav\n",
      "372_PARTICIPANT_merged.wav\n",
      "373_PARTICIPANT_merged.wav\n",
      "374_PARTICIPANT_merged.wav\n",
      "375_PARTICIPANT_merged.wav\n",
      "376_PARTICIPANT_merged.wav\n",
      "377_PARTICIPANT_merged.wav\n",
      "378_PARTICIPANT_merged.wav\n",
      "379_PARTICIPANT_merged.wav\n",
      "380_PARTICIPANT_merged.wav\n",
      "381_PARTICIPANT_merged.wav\n",
      "382_PARTICIPANT_merged.wav\n",
      "383_PARTICIPANT_merged.wav\n",
      "384_PARTICIPANT_merged.wav\n",
      "385_PARTICIPANT_merged.wav\n",
      "386_PARTICIPANT_merged.wav\n",
      "387_PARTICIPANT_merged.wav\n",
      "388_PARTICIPANT_merged.wav\n",
      "389_PARTICIPANT_merged.wav\n",
      "390_PARTICIPANT_merged.wav\n",
      "391_PARTICIPANT_merged.wav\n",
      "392_PARTICIPANT_merged.wav\n",
      "393_PARTICIPANT_merged.wav\n",
      "395_PARTICIPANT_merged.wav\n",
      "396_PARTICIPANT_merged.wav\n",
      "397_PARTICIPANT_merged.wav\n",
      "399_PARTICIPANT_merged.wav\n",
      "400_PARTICIPANT_merged.wav\n",
      "401_PARTICIPANT_merged.wav\n",
      "402_PARTICIPANT_merged.wav\n",
      "403_PARTICIPANT_merged.wav\n",
      "404_PARTICIPANT_merged.wav\n",
      "405_PARTICIPANT_merged.wav\n",
      "410_PARTICIPANT_merged.wav\n",
      "411_PARTICIPANT_merged.wav\n",
      "409_PARTICIPANT_merged.wav\n",
      "412_PARTICIPANT_merged.wav\n",
      "423_PARTICIPANT_merged.wav\n",
      "428_PARTICIPANT_merged.wav\n",
      "407_PARTICIPANT_merged.wav\n",
      "418_PARTICIPANT_merged.wav\n",
      "414_PARTICIPANT_merged.wav\n",
      "406_PARTICIPANT_merged.wav\n",
      "419_PARTICIPANT_merged.wav\n",
      "408_PARTICIPANT_merged.wav\n",
      "429_PARTICIPANT_merged.wav\n",
      "424_PARTICIPANT_merged.wav\n",
      "415_PARTICIPANT_merged.wav\n",
      "425_PARTICIPANT_merged.wav\n",
      "420_PARTICIPANT_merged.wav\n",
      "421_PARTICIPANT_merged.wav\n",
      "416_PARTICIPANT_merged.wav\n",
      "430_PARTICIPANT_merged.wav\n",
      "422_PARTICIPANT_merged.wav\n",
      "426_PARTICIPANT_merged.wav\n",
      "431_PARTICIPANT_merged.wav\n",
      "427_PARTICIPANT_merged.wav\n",
      "417_PARTICIPANT_merged.wav\n",
      "433_PARTICIPANT_merged.wav\n",
      "438_PARTICIPANT_merged.wav\n",
      "432_PARTICIPANT_merged.wav\n",
      "443_PARTICIPANT_merged.wav\n",
      "434_PARTICIPANT_merged.wav\n",
      "448_PARTICIPANT_merged.wav\n",
      "444_PARTICIPANT_merged.wav\n",
      "439_PARTICIPANT_merged.wav\n",
      "435_PARTICIPANT_merged.wav\n",
      "445_PARTICIPANT_merged.wav\n",
      "436_PARTICIPANT_merged.wav\n",
      "440_PARTICIPANT_merged.wav\n",
      "446_PARTICIPANT_merged.wav\n",
      "449_PARTICIPANT_merged.wav\n",
      "437_PARTICIPANT_merged.wav\n",
      "450_PARTICIPANT_merged.wav\n",
      "447_PARTICIPANT_merged.wav\n",
      "453_PARTICIPANT_merged.wav\n",
      "458_PARTICIPANT_merged.wav\n",
      "451_PARTICIPANT_merged.wav\n",
      "441_PARTICIPANT_merged.wav\n",
      "442_PARTICIPANT_merged.wav\n",
      "459_PARTICIPANT_merged.wav\n",
      "452_PARTICIPANT_merged.wav\n",
      "461_PARTICIPANT_merged.wav\n",
      "454_PARTICIPANT_merged.wav\n",
      "464_PARTICIPANT_merged.wav\n",
      "469_PARTICIPANT_merged.wav\n",
      "455_PARTICIPANT_merged.wav\n",
      "462_PARTICIPANT_merged.wav\n",
      "465_PARTICIPANT_merged.wav\n",
      "463_PARTICIPANT_merged.wav\n",
      "456_PARTICIPANT_merged.wav\n",
      "470_PARTICIPANT_merged.wav\n",
      "457_PARTICIPANT_merged.wav\n",
      "471_PARTICIPANT_merged.wav\n",
      "474_PARTICIPANT_merged.wav\n",
      "466_PARTICIPANT_merged.wav\n",
      "472_PARTICIPANT_merged.wav\n",
      "475_PARTICIPANT_merged.wav\n",
      "479_PARTICIPANT_merged.wav\n",
      "476_PARTICIPANT_merged.wav\n",
      "467_PARTICIPANT_merged.wav\n",
      "473_PARTICIPANT_merged.wav\n",
      "480_PARTICIPANT_merged.wav\n",
      "484_PARTICIPANT_merged.wav\n",
      "477_PARTICIPANT_merged.wav\n",
      "468_PARTICIPANT_merged.wav\n",
      "481_PARTICIPANT_merged.wav\n",
      "485_PARTICIPANT_merged.wav\n",
      "486_PARTICIPANT_merged.wav\n",
      "478_PARTICIPANT_merged.wav\n",
      "487_PARTICIPANT_merged.wav\n",
      "488_PARTICIPANT_merged.wav\n",
      "489_PARTICIPANT_merged.wav\n",
      "482_PARTICIPANT_merged.wav\n",
      "490_PARTICIPANT_merged.wav\n",
      "491_PARTICIPANT_merged.wav\n",
      "483_PARTICIPANT_merged.wav\n",
      "492_PARTICIPANT_merged.wav\n"
     ]
    }
   ],
   "source": [
    "zero_crossing_rate = {}\n",
    "\n",
    "for folder in os.listdir(directory):\n",
    "    if folder.endswith('.zip') or folder.startswith('._'):\n",
    "        # don't care about zip files\n",
    "        continue\n",
    "    for file in os.listdir(os.path.join(directory, folder)):\n",
    "        if file.endswith('PARTICIPANT_merged.wav') and not file.startswith('._'):\n",
    "            print(file)\n",
    "            zero_crossing_rate[file] = librosa.feature.zero_crossing_rate(y=librosa.load(os.path.join(directory, folder, file))[0])"
   ]
  },
  {
   "cell_type": "code",
   "execution_count": 24,
   "metadata": {},
   "outputs": [
    {
     "name": "stdout",
     "output_type": "stream",
     "text": [
      "413_PARTICIPANT_merged.wav\n"
     ]
    }
   ],
   "source": [
    "# plot the zero crossing rate array for first 3 files\n",
    "for key, value in zero_crossing_rate.items():\n",
    "    print(key)\n",
    "    # plot crossing rate\n",
    "    px.line(pd.DataFrame(value[0]).reset_index(), x='index', y=0, labels={'index': 'Frame', 0: 'Zero Crossing Rate'})\n",
    "    break\n",
    "\n",
    "# for key, value in zero_crossing_rate.items():\n",
    "#     print(key)\n",
    "#     # plot crossing rate\n",
    "#     px.line(pd.DataFrame(value[0]).reset_index(), x='index', y=0, labels={'index': 'Frame', 0: 'Zero Crossing Rate'})"
   ]
  },
  {
   "attachments": {},
   "cell_type": "markdown",
   "metadata": {},
   "source": [
    "### Tempo"
   ]
  },
  {
   "cell_type": "code",
   "execution_count": 16,
   "metadata": {},
   "outputs": [
    {
     "name": "stdout",
     "output_type": "stream",
     "text": [
      "413_PARTICIPANT_merged.wav\n",
      "300_PARTICIPANT_merged.wav\n",
      "301_PARTICIPANT_merged.wav\n"
     ]
    },
    {
     "ename": "KeyboardInterrupt",
     "evalue": "",
     "output_type": "error",
     "traceback": [
      "\u001b[0;31m---------------------------------------------------------------------------\u001b[0m",
      "\u001b[0;31mKeyboardInterrupt\u001b[0m                         Traceback (most recent call last)",
      "\u001b[0;32m/var/folders/sg/4x_5htrx3y7fm7z77wcz8c_40000gn/T/ipykernel_69897/3517240733.py\u001b[0m in \u001b[0;36m<module>\u001b[0;34m\u001b[0m\n\u001b[1;32m      8\u001b[0m         \u001b[0;32mif\u001b[0m \u001b[0mfile\u001b[0m\u001b[0;34m.\u001b[0m\u001b[0mendswith\u001b[0m\u001b[0;34m(\u001b[0m\u001b[0;34m'PARTICIPANT_merged.wav'\u001b[0m\u001b[0;34m)\u001b[0m \u001b[0;32mand\u001b[0m \u001b[0;32mnot\u001b[0m \u001b[0mfile\u001b[0m\u001b[0;34m.\u001b[0m\u001b[0mstartswith\u001b[0m\u001b[0;34m(\u001b[0m\u001b[0;34m'._'\u001b[0m\u001b[0;34m)\u001b[0m\u001b[0;34m:\u001b[0m\u001b[0;34m\u001b[0m\u001b[0;34m\u001b[0m\u001b[0m\n\u001b[1;32m      9\u001b[0m             \u001b[0mprint\u001b[0m\u001b[0;34m(\u001b[0m\u001b[0mfile\u001b[0m\u001b[0;34m)\u001b[0m\u001b[0;34m\u001b[0m\u001b[0;34m\u001b[0m\u001b[0m\n\u001b[0;32m---> 10\u001b[0;31m             \u001b[0mtempo\u001b[0m\u001b[0;34m[\u001b[0m\u001b[0mfile\u001b[0m\u001b[0;34m]\u001b[0m \u001b[0;34m=\u001b[0m \u001b[0mlibrosa\u001b[0m\u001b[0;34m.\u001b[0m\u001b[0mbeat\u001b[0m\u001b[0;34m.\u001b[0m\u001b[0mtempo\u001b[0m\u001b[0;34m(\u001b[0m\u001b[0my\u001b[0m\u001b[0;34m=\u001b[0m\u001b[0mlibrosa\u001b[0m\u001b[0;34m.\u001b[0m\u001b[0mload\u001b[0m\u001b[0;34m(\u001b[0m\u001b[0mos\u001b[0m\u001b[0;34m.\u001b[0m\u001b[0mpath\u001b[0m\u001b[0;34m.\u001b[0m\u001b[0mjoin\u001b[0m\u001b[0;34m(\u001b[0m\u001b[0mdirectory\u001b[0m\u001b[0;34m,\u001b[0m \u001b[0mfolder\u001b[0m\u001b[0;34m,\u001b[0m \u001b[0mfile\u001b[0m\u001b[0;34m)\u001b[0m\u001b[0;34m)\u001b[0m\u001b[0;34m[\u001b[0m\u001b[0;36m0\u001b[0m\u001b[0;34m]\u001b[0m\u001b[0;34m,\u001b[0m \u001b[0msr\u001b[0m\u001b[0;34m=\u001b[0m\u001b[0mlibrosa\u001b[0m\u001b[0;34m.\u001b[0m\u001b[0mload\u001b[0m\u001b[0;34m(\u001b[0m\u001b[0mos\u001b[0m\u001b[0;34m.\u001b[0m\u001b[0mpath\u001b[0m\u001b[0;34m.\u001b[0m\u001b[0mjoin\u001b[0m\u001b[0;34m(\u001b[0m\u001b[0mdirectory\u001b[0m\u001b[0;34m,\u001b[0m \u001b[0mfolder\u001b[0m\u001b[0;34m,\u001b[0m \u001b[0mfile\u001b[0m\u001b[0;34m)\u001b[0m\u001b[0;34m)\u001b[0m\u001b[0;34m[\u001b[0m\u001b[0;36m1\u001b[0m\u001b[0;34m]\u001b[0m\u001b[0;34m)\u001b[0m\u001b[0;34m\u001b[0m\u001b[0;34m\u001b[0m\u001b[0m\n\u001b[0m",
      "\u001b[0;32m~/.virtualenvs/multitask-bert/lib/python3.8/site-packages/librosa/util/decorators.py\u001b[0m in \u001b[0;36minner_f\u001b[0;34m(*args, **kwargs)\u001b[0m\n\u001b[1;32m     86\u001b[0m             \u001b[0mextra_args\u001b[0m \u001b[0;34m=\u001b[0m \u001b[0mlen\u001b[0m\u001b[0;34m(\u001b[0m\u001b[0margs\u001b[0m\u001b[0;34m)\u001b[0m \u001b[0;34m-\u001b[0m \u001b[0mlen\u001b[0m\u001b[0;34m(\u001b[0m\u001b[0mall_args\u001b[0m\u001b[0;34m)\u001b[0m\u001b[0;34m\u001b[0m\u001b[0;34m\u001b[0m\u001b[0m\n\u001b[1;32m     87\u001b[0m             \u001b[0;32mif\u001b[0m \u001b[0mextra_args\u001b[0m \u001b[0;34m<=\u001b[0m \u001b[0;36m0\u001b[0m\u001b[0;34m:\u001b[0m\u001b[0;34m\u001b[0m\u001b[0;34m\u001b[0m\u001b[0m\n\u001b[0;32m---> 88\u001b[0;31m                 \u001b[0;32mreturn\u001b[0m \u001b[0mf\u001b[0m\u001b[0;34m(\u001b[0m\u001b[0;34m*\u001b[0m\u001b[0margs\u001b[0m\u001b[0;34m,\u001b[0m \u001b[0;34m**\u001b[0m\u001b[0mkwargs\u001b[0m\u001b[0;34m)\u001b[0m\u001b[0;34m\u001b[0m\u001b[0;34m\u001b[0m\u001b[0m\n\u001b[0m\u001b[1;32m     89\u001b[0m \u001b[0;34m\u001b[0m\u001b[0m\n\u001b[1;32m     90\u001b[0m             \u001b[0;31m# extra_args > 0\u001b[0m\u001b[0;34m\u001b[0m\u001b[0;34m\u001b[0m\u001b[0;34m\u001b[0m\u001b[0m\n",
      "\u001b[0;32m~/.virtualenvs/multitask-bert/lib/python3.8/site-packages/librosa/core/audio.py\u001b[0m in \u001b[0;36mload\u001b[0;34m(path, sr, mono, offset, duration, dtype, res_type)\u001b[0m\n\u001b[1;32m    177\u001b[0m \u001b[0;34m\u001b[0m\u001b[0m\n\u001b[1;32m    178\u001b[0m     \u001b[0;32mif\u001b[0m \u001b[0msr\u001b[0m \u001b[0;32mis\u001b[0m \u001b[0;32mnot\u001b[0m \u001b[0;32mNone\u001b[0m\u001b[0;34m:\u001b[0m\u001b[0;34m\u001b[0m\u001b[0;34m\u001b[0m\u001b[0m\n\u001b[0;32m--> 179\u001b[0;31m         \u001b[0my\u001b[0m \u001b[0;34m=\u001b[0m \u001b[0mresample\u001b[0m\u001b[0;34m(\u001b[0m\u001b[0my\u001b[0m\u001b[0;34m,\u001b[0m \u001b[0morig_sr\u001b[0m\u001b[0;34m=\u001b[0m\u001b[0msr_native\u001b[0m\u001b[0;34m,\u001b[0m \u001b[0mtarget_sr\u001b[0m\u001b[0;34m=\u001b[0m\u001b[0msr\u001b[0m\u001b[0;34m,\u001b[0m \u001b[0mres_type\u001b[0m\u001b[0;34m=\u001b[0m\u001b[0mres_type\u001b[0m\u001b[0;34m)\u001b[0m\u001b[0;34m\u001b[0m\u001b[0;34m\u001b[0m\u001b[0m\n\u001b[0m\u001b[1;32m    180\u001b[0m \u001b[0;34m\u001b[0m\u001b[0m\n\u001b[1;32m    181\u001b[0m     \u001b[0;32melse\u001b[0m\u001b[0;34m:\u001b[0m\u001b[0;34m\u001b[0m\u001b[0;34m\u001b[0m\u001b[0m\n",
      "\u001b[0;32m~/.virtualenvs/multitask-bert/lib/python3.8/site-packages/librosa/util/decorators.py\u001b[0m in \u001b[0;36minner_f\u001b[0;34m(*args, **kwargs)\u001b[0m\n\u001b[1;32m     86\u001b[0m             \u001b[0mextra_args\u001b[0m \u001b[0;34m=\u001b[0m \u001b[0mlen\u001b[0m\u001b[0;34m(\u001b[0m\u001b[0margs\u001b[0m\u001b[0;34m)\u001b[0m \u001b[0;34m-\u001b[0m \u001b[0mlen\u001b[0m\u001b[0;34m(\u001b[0m\u001b[0mall_args\u001b[0m\u001b[0;34m)\u001b[0m\u001b[0;34m\u001b[0m\u001b[0;34m\u001b[0m\u001b[0m\n\u001b[1;32m     87\u001b[0m             \u001b[0;32mif\u001b[0m \u001b[0mextra_args\u001b[0m \u001b[0;34m<=\u001b[0m \u001b[0;36m0\u001b[0m\u001b[0;34m:\u001b[0m\u001b[0;34m\u001b[0m\u001b[0;34m\u001b[0m\u001b[0m\n\u001b[0;32m---> 88\u001b[0;31m                 \u001b[0;32mreturn\u001b[0m \u001b[0mf\u001b[0m\u001b[0;34m(\u001b[0m\u001b[0;34m*\u001b[0m\u001b[0margs\u001b[0m\u001b[0;34m,\u001b[0m \u001b[0;34m**\u001b[0m\u001b[0mkwargs\u001b[0m\u001b[0;34m)\u001b[0m\u001b[0;34m\u001b[0m\u001b[0;34m\u001b[0m\u001b[0m\n\u001b[0m\u001b[1;32m     89\u001b[0m \u001b[0;34m\u001b[0m\u001b[0m\n\u001b[1;32m     90\u001b[0m             \u001b[0;31m# extra_args > 0\u001b[0m\u001b[0;34m\u001b[0m\u001b[0;34m\u001b[0m\u001b[0;34m\u001b[0m\u001b[0m\n",
      "\u001b[0;32m~/.virtualenvs/multitask-bert/lib/python3.8/site-packages/librosa/core/audio.py\u001b[0m in \u001b[0;36mresample\u001b[0;34m(y, orig_sr, target_sr, res_type, fix, scale, **kwargs)\u001b[0m\n\u001b[1;32m    645\u001b[0m         \u001b[0my_hat\u001b[0m \u001b[0;34m=\u001b[0m \u001b[0msoxr\u001b[0m\u001b[0;34m.\u001b[0m\u001b[0mresample\u001b[0m\u001b[0;34m(\u001b[0m\u001b[0my\u001b[0m\u001b[0;34m.\u001b[0m\u001b[0mT\u001b[0m\u001b[0;34m,\u001b[0m \u001b[0morig_sr\u001b[0m\u001b[0;34m,\u001b[0m \u001b[0mtarget_sr\u001b[0m\u001b[0;34m,\u001b[0m \u001b[0mquality\u001b[0m\u001b[0;34m=\u001b[0m\u001b[0mres_type\u001b[0m\u001b[0;34m)\u001b[0m\u001b[0;34m.\u001b[0m\u001b[0mT\u001b[0m\u001b[0;34m\u001b[0m\u001b[0;34m\u001b[0m\u001b[0m\n\u001b[1;32m    646\u001b[0m     \u001b[0;32melse\u001b[0m\u001b[0;34m:\u001b[0m\u001b[0;34m\u001b[0m\u001b[0;34m\u001b[0m\u001b[0m\n\u001b[0;32m--> 647\u001b[0;31m         \u001b[0my_hat\u001b[0m \u001b[0;34m=\u001b[0m \u001b[0mresampy\u001b[0m\u001b[0;34m.\u001b[0m\u001b[0mresample\u001b[0m\u001b[0;34m(\u001b[0m\u001b[0my\u001b[0m\u001b[0;34m,\u001b[0m \u001b[0morig_sr\u001b[0m\u001b[0;34m,\u001b[0m \u001b[0mtarget_sr\u001b[0m\u001b[0;34m,\u001b[0m \u001b[0mfilter\u001b[0m\u001b[0;34m=\u001b[0m\u001b[0mres_type\u001b[0m\u001b[0;34m,\u001b[0m \u001b[0maxis\u001b[0m\u001b[0;34m=\u001b[0m\u001b[0;34m-\u001b[0m\u001b[0;36m1\u001b[0m\u001b[0;34m)\u001b[0m\u001b[0;34m\u001b[0m\u001b[0;34m\u001b[0m\u001b[0m\n\u001b[0m\u001b[1;32m    648\u001b[0m \u001b[0;34m\u001b[0m\u001b[0m\n\u001b[1;32m    649\u001b[0m     \u001b[0;32mif\u001b[0m \u001b[0mfix\u001b[0m\u001b[0;34m:\u001b[0m\u001b[0;34m\u001b[0m\u001b[0;34m\u001b[0m\u001b[0m\n",
      "\u001b[0;32m~/.virtualenvs/multitask-bert/lib/python3.8/site-packages/resampy/core.py\u001b[0m in \u001b[0;36mresample\u001b[0;34m(x, sr_orig, sr_new, axis, filter, parallel, **kwargs)\u001b[0m\n\u001b[1;32m    166\u001b[0m             )\n\u001b[1;32m    167\u001b[0m     \u001b[0;32melse\u001b[0m\u001b[0;34m:\u001b[0m\u001b[0;34m\u001b[0m\u001b[0;34m\u001b[0m\u001b[0m\n\u001b[0;32m--> 168\u001b[0;31m         resample_f_s(\n\u001b[0m\u001b[1;32m    169\u001b[0m             \u001b[0mx\u001b[0m\u001b[0;34m.\u001b[0m\u001b[0mswapaxes\u001b[0m\u001b[0;34m(\u001b[0m\u001b[0;34m-\u001b[0m\u001b[0;36m1\u001b[0m\u001b[0;34m,\u001b[0m \u001b[0maxis\u001b[0m\u001b[0;34m)\u001b[0m\u001b[0;34m,\u001b[0m\u001b[0;34m\u001b[0m\u001b[0;34m\u001b[0m\u001b[0m\n\u001b[1;32m    170\u001b[0m             \u001b[0mt_out\u001b[0m\u001b[0;34m,\u001b[0m\u001b[0;34m\u001b[0m\u001b[0;34m\u001b[0m\u001b[0m\n",
      "\u001b[0;32m~/.virtualenvs/multitask-bert/lib/python3.8/site-packages/numba/np/ufunc/gufunc.py\u001b[0m in \u001b[0;36m__call__\u001b[0;34m(self, *args, **kwargs)\u001b[0m\n\u001b[1;32m    190\u001b[0m             \u001b[0mself\u001b[0m\u001b[0;34m.\u001b[0m\u001b[0madd\u001b[0m\u001b[0;34m(\u001b[0m\u001b[0msig\u001b[0m\u001b[0;34m)\u001b[0m\u001b[0;34m\u001b[0m\u001b[0;34m\u001b[0m\u001b[0m\n\u001b[1;32m    191\u001b[0m             \u001b[0mself\u001b[0m\u001b[0;34m.\u001b[0m\u001b[0mbuild_ufunc\u001b[0m\u001b[0;34m(\u001b[0m\u001b[0;34m)\u001b[0m\u001b[0;34m\u001b[0m\u001b[0;34m\u001b[0m\u001b[0m\n\u001b[0;32m--> 192\u001b[0;31m         \u001b[0;32mreturn\u001b[0m \u001b[0mself\u001b[0m\u001b[0;34m.\u001b[0m\u001b[0mufunc\u001b[0m\u001b[0;34m(\u001b[0m\u001b[0;34m*\u001b[0m\u001b[0margs\u001b[0m\u001b[0;34m,\u001b[0m \u001b[0;34m**\u001b[0m\u001b[0mkwargs\u001b[0m\u001b[0;34m)\u001b[0m\u001b[0;34m\u001b[0m\u001b[0;34m\u001b[0m\u001b[0m\n\u001b[0m",
      "\u001b[0;31mKeyboardInterrupt\u001b[0m: "
     ]
    }
   ],
   "source": [
    "tempo = {}\n",
    "\n",
    "for folder in os.listdir(directory):\n",
    "    if folder.endswith('.zip') or folder.startswith('._'):\n",
    "        # don't care about zip files\n",
    "        continue\n",
    "    for file in os.listdir(os.path.join(directory, folder)):\n",
    "        if file.endswith('PARTICIPANT_merged.wav') and not file.startswith('._'):\n",
    "            print(file)\n",
    "            tempo[file] = librosa.beat.tempo(y=librosa.load(os.path.join(directory, folder, file))[0], sr=librosa.load(os.path.join(directory, folder, file))[1])"
   ]
  },
  {
   "cell_type": "code",
   "execution_count": null,
   "metadata": {},
   "outputs": [],
   "source": []
  }
 ],
 "metadata": {
  "kernelspec": {
   "display_name": "multitask-bert",
   "language": "python",
   "name": "python3"
  },
  "language_info": {
   "codemirror_mode": {
    "name": "ipython",
    "version": 3
   },
   "file_extension": ".py",
   "mimetype": "text/x-python",
   "name": "python",
   "nbconvert_exporter": "python",
   "pygments_lexer": "ipython3",
   "version": "3.8.2"
  },
  "orig_nbformat": 4,
  "vscode": {
   "interpreter": {
    "hash": "e6cba64f92086cea4f7c8f7f244f42e1e8cb9624a24fb73ff9c983ad8555d3f6"
   }
  }
 },
 "nbformat": 4,
 "nbformat_minor": 2
}
